{
 "cells": [
  {
   "cell_type": "markdown",
   "metadata": {},
   "source": [
    "# 2017_IE362\n",
    "# Week 3\n",
    "----"
   ]
  },
  {
   "attachments": {},
   "cell_type": "markdown",
   "metadata": {
    "collapsed": true
   },
   "source": [
    "## Array\n",
    "\n",
    "동일한 data를 index를 활용하여 저장하거나 엑세스. 검색을 위해 배열의 길이(n) 이내에서 루프를 돌아야 한다.\n",
    "\n",
    "**Creating a List by Array**\n",
    "- Each element is accessible by index\n",
    "- Index is typically zero or a positive integer"
   ]
  },
  {
   "cell_type": "code",
   "execution_count": 1,
   "metadata": {
    "collapsed": true
   },
   "outputs": [],
   "source": [
    "x = [\"a\", \"b\", \"d\", \"e\", \"f\"]"
   ]
  },
  {
   "cell_type": "markdown",
   "metadata": {},
   "source": [
    "**Search procedure in array**\n",
    "\n",
    "![week3_1.png](images/week3_1.png)"
   ]
  },
  {
   "cell_type": "markdown",
   "metadata": {},
   "source": [
    "**Insert in Array**\n",
    "- First, make new list, or y, with six cells\n",
    "- Second, copy the reference links of x[0:a-1] to y[0:a-1] (retrieval cnt.: a)\n",
    "- Third, put a reference link to ‘c’ in y[a] (retrieval cnt.: 1)\n",
    "- Fourth, copy the reference links of x[a:] to y[a+1:] (retrieval cnt.: n-a-1)\n",
    "- Fifth, change x’s reference to y’s reference \n",
    "- Total count of retrievals = a + 1 + n – a – 1 = n\n",
    "\n",
    "![week3_2.png](images/week3_2.png)"
   ]
  },
  {
   "cell_type": "code",
   "execution_count": 2,
   "metadata": {},
   "outputs": [],
   "source": [
    "#insert in Array\n",
    "x = [\"a\", \"b\", \"d\", \"e\", \"f\"]\n",
    "idxInsert = 2\n",
    "valInsert = \"c\"\n",
    "\n",
    "y = range(6) #새로운 값을 담을 배열 생성. reference로 같은 값을 가리키게 한 후 마지막에 해당 배열로 바꾼다.\n",
    "#파이썬에서는 range()가 Array가 아니기에 오류가 난다. 이런 로직으로 삽입을 한다.\n",
    "y = [0]*6 #파이썬에선 range()가 index 를 가질 수 없으므로.\n",
    "for i in range(0, idxInsert): #삽입 전 인덱스 까지\n",
    "    y[i] = x[i]\n",
    "y[idxInsert] = valInsert #삽입\n",
    "for i in range(idxInsert, len(x)): #삽입 후 인덱스 부터\n",
    "    y[i+1] = x[i]\n",
    "    \n",
    "x = y"
   ]
  },
  {
   "attachments": {},
   "cell_type": "markdown",
   "metadata": {},
   "source": [
    "**Delete procedure in array**\n",
    "- First, make new list, or y, with five cells\n",
    "- Second, copy the reference links of x[0:a-1] to y[0:a-1] (retrieval cnt.: a)\n",
    "- Third, copy the reference links of x[a+1:] to y[a:] (retrieval cnt.: n-a-1)\n",
    "- Fifth, change x’s reference to y’s reference \n",
    "- Total count of retrievals = a + n – a – 1 = n - 1 (insert보다 하나 적다)\n",
    "\n",
    "![week3_2.png](images/week3_3.png)"
   ]
  },
  {
   "cell_type": "code",
   "execution_count": 3,
   "metadata": {
    "collapsed": true
   },
   "outputs": [],
   "source": [
    "idxDelete = 3\n",
    "\n",
    "y = range(5) #새로운 값을 담을 배열 생성. reference로 같은 값을 가리키게 한 후 마지막에 해당 배열로 바꾼다.\n",
    "#파이썬에서는 range()가 Array가 아니기에 오류가 난다. 이런 로직으로 삽입을 한다.\n",
    "y = [0]*5 #파이썬에선 range()가 index 를 가질 수 없으므로.\n",
    "for i in range(0, idxDelete): #지우기 전 인덱스 까지\n",
    "    y[i] = x[i]\n",
    "for i in range(idxDelete+1, len(x)): #지운 후 인덱스 부터\n",
    "    y[i-1] = x[i]\n",
    "\n",
    "x = y"
   ]
  },
  {
   "attachments": {},
   "cell_type": "markdown",
   "metadata": {},
   "source": [
    "## Linked List\n",
    "\n",
    "**Basic Structure: Singly linked list**\n",
    "\n",
    "Construct a singly linked list with nodes and references\n",
    "\n",
    "- A node consists of \n",
    "    - A variable to hold a reference to its next node\n",
    "    - A variable to hold a reference to its value object\n",
    "- Special nodes: Head and Tail\n",
    "    - You can construct the singly linked list without them\n",
    "    - But, using them makes search, insert and delete more convenient\n",
    "- Generally, requires more coding than array \n",
    "\n",
    "![week3_4.png](images/week3_4.png)"
   ]
  },
  {
   "attachments": {},
   "cell_type": "markdown",
   "metadata": {},
   "source": [
    "** Implementation of Node class **\n",
    "\n",
    "1 to 1. 하나의 노드는 다른 하나의 노드와 연결된다.\n",
    "\n",
    "![week3_5.png](images/week3_5.png)"
   ]
  },
  {
   "cell_type": "code",
   "execution_count": 4,
   "metadata": {
    "collapsed": true
   },
   "outputs": [],
   "source": [
    "class Node:\n",
    "    nodeNext = \"\"\n",
    "    objValue = \"\"\n",
    "    blnHead = False\n",
    "    blnTail = False\n",
    "    \n",
    "    def __init__(self, nodeNext = \"\", objValue = \"\", blnHead = False, blnTail = False):\n",
    "        self.nodeNext = nodeNext\n",
    "        self.objValue = objValue\n",
    "        self.blnHead = blnHead\n",
    "        self.blnTail = blnTail\n",
    "        \n",
    "    def getValue(self):\n",
    "        return self.objValue\n",
    "    \n",
    "    def setValue(self, objValue):\n",
    "        self.objValue = objValue\n",
    "        \n",
    "    def getNext(self):\n",
    "        return self.nodeNext\n",
    "    \n",
    "    def setNext(self, nodeNext):\n",
    "        self.nodeNext = nodeNext\n",
    "        \n",
    "    def isHead(self):\n",
    "        return self.blnHead\n",
    "    \n",
    "    def isTail(self):\n",
    "        return self.blnTail\n",
    "\n",
    "node1 = Node(objValue=\"a\")\n",
    "nodeHead = Node(blnHead=True, nodeNext=node1)\n",
    "nodeTail = Node(blnTail=True)"
   ]
  },
  {
   "cell_type": "markdown",
   "metadata": {},
   "source": [
    "** Search procedure in singly linked list **\n",
    "\n",
    "검색은 처음부터 끝까지 값을 확인해야 하기 때문에 배열과 달라진 게 없다. 다만 인덱스 대신 각 노드의 next를 사용한다. 맥시멈은 N\n",
    "\n",
    "![week3_6.png](images/week3_6.png)"
   ]
  },
  {
   "attachments": {},
   "cell_type": "markdown",
   "metadata": {},
   "source": [
    "**Insert procedure in singly linked list**\n",
    "\n",
    "- First, you store a Node, or a Nodenext, pointed by a reference from Nodeprev’s nodeNext member variable\n",
    "- Second, you change a reference from Nodeprev’s nodeNext to Nodenew\n",
    "- Third, you change a reference from Nodenew’s nodeNext to Nodenext\n",
    "\n",
    "![week3_7.png](images/week3_7.png)"
   ]
  },
  {
   "attachments": {},
   "cell_type": "markdown",
   "metadata": {},
   "source": [
    "** Delete procedure in singly linked list **\n",
    "\n",
    "- With an assumption that you have a reference to the node, Nodeprev that you want to remove the node next\n",
    "- First, you retrieve Nodenext that is two steps next from Nodeprev\n",
    "- Second, you change a reference from Nodeprev’s nodeNext to Nodenext\n",
    "- The node will be removed because there is no reference to Noderemove\n",
    "\n",
    "![week3_8.png](images/week3_8.png)"
   ]
  },
  {
   "cell_type": "code",
   "execution_count": 5,
   "metadata": {},
   "outputs": [
    {
     "name": "stdout",
     "output_type": "stream",
     "text": [
      "a b d e f \n",
      "a b c d e f \n",
      "a b c e f \n"
     ]
    }
   ],
   "source": [
    "class SinglyLinkedList:\n",
    "    nodeHead = \"\"\n",
    "    nodeTail = \"\"\n",
    "    size = 0\n",
    "    \n",
    "    def __init__(self):\n",
    "        self.nodeTail = Node(blnTail=True)\n",
    "        self.nodeHead = Node(blnHead=True, nodeNext=self.nodeTail)\n",
    "        \n",
    "    def insertAt(self, objInsert, idxInsert):\n",
    "        nodeNew = Node(objValue=objInsert)\n",
    "        nodePrev = self.get(idxInsert - 1)\n",
    "        nodeNext = nodePrev.getNext()\n",
    "        nodePrev.setNext(nodeNew)\n",
    "        nodeNew.setNext(nodeNext)\n",
    "        self.size += 1\n",
    "        \n",
    "    def removeAt(self, idxRemove):\n",
    "        nodePrev = self.get(idxRemove - 1)\n",
    "        nodeRemove = nodePrev.getNext()\n",
    "        nodeNext = nodeRemove.getNext()\n",
    "        nodePrev.setNext(nodeNext)\n",
    "        self.size -= 1\n",
    "        \n",
    "        return nodeRemove.getValue() #삭제된 노드의 값 반환\n",
    "    \n",
    "    def get(self, idxRetrieve): #search\n",
    "        nodeReturn = self.nodeHead\n",
    "        for i in range(idxRetrieve + 1):\n",
    "            nodeReturn = nodeReturn.getNext() #인덱스가 없으므로 next로 다음 노드를 찾아가야 한다.\n",
    "\n",
    "        return nodeReturn\n",
    "    \n",
    "    def printStatus(self):\n",
    "        nodeCurrent = self.nodeHead\n",
    "        while nodeCurrent.getNext().isTail() == False: #마지막에 도달할 때까지\n",
    "            nodeCurrent = nodeCurrent.getNext()\n",
    "            print(nodeCurrent.getValue(), end=\" \")\n",
    "        print()\n",
    "    #이런 식으로 Head와 Tail이 꼭 필요한 요소는 아니지만, 있으면 편리하다.\n",
    "            \n",
    "    def getSize(self):\n",
    "        return self.size\n",
    "    \n",
    "list1 = SinglyLinkedList()\n",
    "list1.insertAt(\"a\", 0)\n",
    "list1.insertAt(\"b\", 1)\n",
    "list1.insertAt(\"d\", 2)\n",
    "list1.insertAt(\"e\", 3)\n",
    "list1.insertAt(\"f\", 4)\n",
    "list1.printStatus()\n",
    "\n",
    "list1.insertAt(\"c\", 2)\n",
    "list1.printStatus()\n",
    "\n",
    "list1.removeAt(3)\n",
    "list1.printStatus()"
   ]
  },
  {
   "cell_type": "markdown",
   "metadata": {},
   "source": [
    "## Stack"
   ]
  },
  {
   "attachments": {},
   "cell_type": "markdown",
   "metadata": {},
   "source": [
    "스택은 linear linked lists의 한 종류로 생각하면 된다. 오로지 top에서 insert와 delete가 진행된다.      \n",
    "**Last-In-First-Out (LIFO)**    \n",
    "\n"
   ]
  },
  {
   "cell_type": "code",
   "execution_count": 6,
   "metadata": {},
   "outputs": [
    {
     "name": "stdout",
     "output_type": "stream",
     "text": [
      "c\n",
      "b\n",
      "a\n"
     ]
    }
   ],
   "source": [
    "class Stack(object):\n",
    "    listInstance = SinglyLinkedList()\n",
    "    \n",
    "    def pop(self):\n",
    "        return self.listInstance.removeAt(0)\n",
    "    \n",
    "    def push(self, value):\n",
    "        self.listInstance.insertAt(value, 0)\n",
    "\n",
    "stack = Stack()\n",
    "stack.push(\"a\")\n",
    "stack.push(\"b\")\n",
    "stack.push(\"c\")\n",
    "\n",
    "print(stack.pop())\n",
    "print(stack.pop())\n",
    "print(stack.pop())"
   ]
  },
  {
   "cell_type": "markdown",
   "metadata": {},
   "source": [
    "**Example: Balancing Symbols**    \n",
    "\n",
    "Balancing Symbols을 확인하는데 사용할 수 있다. 여는 기호에서는 push. 닫는 기호에서는 pop을 한다. 여기서 pop시 심볼 타입이 같지 않으면 에러. 스택이 pop 전에 비어져 있으면 에러"
   ]
  },
  {
   "attachments": {},
   "cell_type": "markdown",
   "metadata": {},
   "source": [
    "## Queue\n",
    "\n",
    "큐은 linear linked lists의 한 종류로 생각하면 된다.    \n",
    "**Fast-In-First-Out (FIFO)**"
   ]
  },
  {
   "cell_type": "code",
   "execution_count": 7,
   "metadata": {},
   "outputs": [
    {
     "name": "stdout",
     "output_type": "stream",
     "text": [
      "a\n",
      "b\n",
      "c\n"
     ]
    }
   ],
   "source": [
    "class Queue(object):\n",
    "    listInstance = SinglyLinkedList()\n",
    "    \n",
    "    def dequeue(self):\n",
    "        return self.listInstance.removeAt(0) #맨 앞에서 빼낸다.\n",
    "    \n",
    "    def enqueue(self, value):\n",
    "        self.listInstance.insertAt(value, self.listInstance.getSize()) #맨 뒤에 insert 하므로\n",
    "    \n",
    "queue = Queue()\n",
    "queue.enqueue(\"a\")\n",
    "queue.enqueue(\"b\")\n",
    "queue.enqueue(\"c\")\n",
    "\n",
    "print(queue.dequeue())\n",
    "print(queue.dequeue())\n",
    "print(queue.dequeue())"
   ]
  }
 ],
 "metadata": {
  "kernelspec": {
   "display_name": "Python 3",
   "language": "python",
   "name": "python3"
  },
  "language_info": {
   "codemirror_mode": {
    "name": "ipython",
    "version": 3
   },
   "file_extension": ".py",
   "mimetype": "text/x-python",
   "name": "python",
   "nbconvert_exporter": "python",
   "pygments_lexer": "ipython3",
   "version": "3.6.1"
  }
 },
 "nbformat": 4,
 "nbformat_minor": 2
}
