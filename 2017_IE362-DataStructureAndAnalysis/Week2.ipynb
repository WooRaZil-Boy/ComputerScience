{
 "cells": [
  {
   "cell_type": "markdown",
   "metadata": {},
   "source": [
    "# 2017_IE362\n",
    "# Week 2\n",
    "----"
   ]
  },
  {
   "cell_type": "markdown",
   "metadata": {},
   "source": [
    "### UML notation 1\n",
    "\n",
    "![week2_0.png](images/week2_0.png)"
   ]
  },
  {
   "cell_type": "markdown",
   "metadata": {},
   "source": [
    "## Encapsulation and Inheritance\n",
    "\n",
    "- Encapsulation : Data + Behavior. Behavior(function)로만 접근할 수 있도록 구현. 구현을 Delegate할 수 있다.\n",
    "- Inheritance : Member variables, methods 상속. 파이썬은 다중 상속이 가능하다.\n",
    "\n",
    "파이썬에는 visibility(public, private 등의 접근 제한자)가 따로 없다. 다만 변수 앞에 underscore를 두 개 붙여서 표현하는 것이 일종의 약속."
   ]
  },
  {
   "cell_type": "code",
   "execution_count": 1,
   "metadata": {},
   "outputs": [
    {
     "name": "stdout",
     "output_type": "stream",
     "text": [
      "Father is created\n",
      "Child is created\n",
      "Father's action\n",
      "Mother's action\n",
      "Fast\n",
      "Jeju\n",
      "Moon\n"
     ]
    }
   ],
   "source": [
    "class Father(object):\n",
    "    strHometown = \"Jeju\"\n",
    "    \n",
    "    def __init__(self):\n",
    "        print(\"Father is created\")\n",
    "    def doFatherThing(self):\n",
    "        print(\"Father's action\")\n",
    "    def doRunning(self):\n",
    "        print(Slow)\n",
    "        \n",
    "class Mother(object):\n",
    "    strHometown = \"Seoul\"\n",
    "    \n",
    "    def __init__(self):\n",
    "        print(\"Mother is created\")\n",
    "    def doMotherThing(self):\n",
    "        print(\"Mother's action\")\n",
    "        \n",
    "class Child(Father, Mother): #다중 상속\n",
    "    strName = \"Moon\"\n",
    "\n",
    "    def __init__(self):\n",
    "        super(Child, self).__init__()\n",
    "        print(\"Child is created\")\n",
    "    def doRunning(self):\n",
    "        print(\"Fast\")\n",
    "        \n",
    "me = Child()\n",
    "me.doFatherThing()\n",
    "me.doMotherThing()\n",
    "me.doRunning()\n",
    "\n",
    "print(me.strHometown)\n",
    "print(me.strName)"
   ]
  },
  {
   "cell_type": "markdown",
   "metadata": {},
   "source": [
    "## Polymorphism and Abstract Class\n",
    "\n",
    "- Polymorphism : 유사하지만 다른 행동을 할 수 있다. Signature : Method name + Parameter list. Overriding(덮어쓰기)과 Overloading(이름은 같지만 Parameter가 다르다)으로 구현. 파이썬에선 overloading이 안 된다. \n",
    "- Abstract Class : Abstract Method(Signature : Method name + Parameter list 까지만 정의되어 있는 메서드. 구현되어 있지 않다)가 있는 클래스. 따라서 구현이 덜 되어 있기 때문에 인스턴스를 생성할 수는 없다. 상속과 오버라이드로 구현하게 된다. \n",
    "\n",
    "오브젝트는 감춰진 메서드들이 있다.\n",
    "\n",
    "- __ init __ : 생성할 때 호출된다.\n",
    "- __ del __ : 삭제할 때 호출된다.\n",
    "- __ eq __ : 값을 비교할 때. 같은지 비교. (is와 다르게 값을 비교한다.)\n",
    "- __ cmp __ : 값을 비교할 때. 대소 유무 비교.\n",
    "- __ add __ : 덧셈 연산을 할 때\n",
    "\n",
    "Duck Typing : 파이썬은 자료형을 명시하지 않기 때문에, 코딩 시 파라미터 등으로 들어오는 값의 내부 메서드"
   ]
  },
  {
   "cell_type": "code",
   "execution_count": 4,
   "metadata": {},
   "outputs": [
    {
     "name": "stdout",
     "output_type": "stream",
     "text": [
      "Bellboy opens a door\n",
      "Someone checks in for 1days\n",
      "Someone checks in for 2days\n"
     ]
    }
   ],
   "source": [
    "class Building:\n",
    "    strAddress = \"Daejeon\"\n",
    "    \n",
    "    def openDoor(self):\n",
    "        print(\"Door opened\")\n",
    "        \n",
    "class Hotel(Building):\n",
    "    def openDoor(self): #Overriding\n",
    "        print(\"Bellboy opens a door\")\n",
    "    def checkIn(self, days = 1): #Overloading 안 됨. Default값 설정\n",
    "        print(\"Someone checks in for \" + str(days) + \"days\")\n",
    "\n",
    "lotteHotel = Hotel()\n",
    "lotteHotel.openDoor()\n",
    "lotteHotel.checkIn()\n",
    "lotteHotel.checkIn(2)"
   ]
  },
  {
   "cell_type": "code",
   "execution_count": 6,
   "metadata": {},
   "outputs": [
    {
     "name": "stdout",
     "output_type": "stream",
     "text": [
      "True\n"
     ]
    }
   ],
   "source": [
    "class Room:\n",
    "    numWidth = 100\n",
    "    numHeight = 100\n",
    "    numDepth = 100\n",
    "    \n",
    "    def __init__(self, parWith, parHeight, parDepth):\n",
    "        self.numWidth = parWith\n",
    "        self.numHeight = parHeight\n",
    "        self.numDepth = parDepth\n",
    "    def getVolume(self):\n",
    "        return self.numWidth * self.numHeight * self.numDepth\n",
    "    def __eq__(self, other):\n",
    "        if isinstance(other, Room): #other이 Room 오브젝트이면\n",
    "            if self.getVolume() == other.getVolume():\n",
    "                return True\n",
    "        return False\n",
    "    \n",
    "room1 = Room(100, 20, 30)\n",
    "room2 = Room(100, 10, 60)\n",
    "\n",
    "print(room1 == room2)"
   ]
  },
  {
   "cell_type": "markdown",
   "metadata": {},
   "source": [
    "## Structure and Relationship\n",
    "\n",
    "- Generalization : 상속. is - a relationship(Customer is a Person). Customer(sub) -> Person(super)(From sub to super). Hollow triangle shape.(빈 화살표) \n",
    "- Association : has - a relationship. A customer has a number of holding accounts. simple line or simple arrow\n",
    "- Aggregation : has - a relationship. 마름모꼴 화살표. Association와 비슷. 요소가 하나도 없다면 존재할 수 없다. 가족과 가족멤버의 관계(가족 멤버가 한 명도 없다면 가족이 존재할 수 없다.) 라이프사이클 관리를 위한 설계\n",
    "- Dependency : use relationship. 점선. 활용하는 관계.\n",
    "\n",
    "![week2_1.png](images/week2_1.png)"
   ]
  }
 ],
 "metadata": {
  "kernelspec": {
   "display_name": "Python 3",
   "language": "python",
   "name": "python3"
  },
  "language_info": {
   "codemirror_mode": {
    "name": "ipython",
    "version": 3
   },
   "file_extension": ".py",
   "mimetype": "text/x-python",
   "name": "python",
   "nbconvert_exporter": "python",
   "pygments_lexer": "ipython3",
   "version": "3.6.1"
  }
 },
 "nbformat": 4,
 "nbformat_minor": 2
}
