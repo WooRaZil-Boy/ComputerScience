{
 "cells": [
  {
   "cell_type": "markdown",
   "metadata": {},
   "source": [
    "## Rule Based Machine Learning Overview\n",
    "\n",
    "경험에 의해 배우면 특정 task를 수행하는 데에 점점 performance가 올라간다.\n",
    "\n",
    "Function Approximation을 잘 하도록 만드는 것이 머신 러닝. target function을 찾아내는 것. 알수는 없지만 데이터를 통해 만들어낸 Hypotheses function과 최대한 비슷하도록.\n",
    "\n",
    "![week2_1.png](images/week2_1.png)"
   ]
  },
  {
   "cell_type": "markdown",
   "metadata": {},
   "source": [
    "## Introduction to Rule Based Algorithm\n",
    "\n",
    "명확히 분류해 낼 수도 있지만, 분류하지 못하는 경우도 많아서(G S의 사이 어느 한쪽만 만족시키는 애매한 경우) 여러 분야에 다양하게 Rule Based Algorithm을 적용하기는 쉽지 않다. 완벽한 상황에서만 제대로 작동한다(현실에서는 어렵다).\n",
    "\n",
    "#### Find-S Algorithm\n",
    "![week2_2.png](images/week2_2.png)\n",
    "\n",
    "#### Version Space\n",
    "General한 가설과 Specific한 가설의 절충점을 찾는다.    \n",
    "![week2_3.png](images/week2_3.png)\n",
    "\n",
    "#### Candidate Elimination Algorithm\n",
    "Version Space를 찾기 위한 방법. \n",
    "1. 가장 General한 가설(무조건 True)과 가장 Specific한 가설(무조건 False)을 만든 후 범위를 점점 좁혀 나간다. \n",
    "2. Positive일 때는 S를 G로. \n",
    "3. Negative일 때는 G를 S로.\n",
    "![week2_4.png](images/week2_4.png)"
   ]
  },
  {
   "cell_type": "markdown",
   "metadata": {},
   "source": [
    "## Entropy and Information Gain\n",
    "\n",
    "#### Entropy\n",
    "![week2_5.png](images/week2_5.png)\n",
    "\n",
    "#### Information Gain\n",
    "![week2_6.png](images/week2_6.png)\n",
    "\n",
    "Information Gain이 가장 높은 노드를 Root로 트리를 만들고, 그 이후 만들어진 노드에서도 계속 IG 계산 해서 분리해 나가는 것이 ID3.    \n",
    "오버피팅을 염두해 둬야 한다."
   ]
  },
  {
   "cell_type": "markdown",
   "metadata": {},
   "source": [
    "## How to create a decision tree given a training dataset\n",
    "\n",
    "![week2_7.png](images/week2_7.png)"
   ]
  },
  {
   "cell_type": "markdown",
   "metadata": {
    "collapsed": true
   },
   "source": [
    "## Quiz\n",
    "\n",
    "![week2_8.png](images/week2_8.png)\n",
    "![week2_9.png](images/week2_9.png)\n",
    "![week2_10.png](images/week2_10.png)"
   ]
  }
 ],
 "metadata": {
  "kernelspec": {
   "display_name": "Python 3",
   "language": "python",
   "name": "python3"
  },
  "language_info": {
   "codemirror_mode": {
    "name": "ipython",
    "version": 3
   },
   "file_extension": ".py",
   "mimetype": "text/x-python",
   "name": "python",
   "nbconvert_exporter": "python",
   "pygments_lexer": "ipython3",
   "version": "3.6.1"
  }
 },
 "nbformat": 4,
 "nbformat_minor": 2
}
