{
 "cells": [
  {
   "cell_type": "markdown",
   "metadata": {},
   "source": [
    "## Optimal Classification\n",
    "\n",
    "![week3_1.png](images/week3_1.png)"
   ]
  },
  {
   "cell_type": "markdown",
   "metadata": {},
   "source": [
    "## Conditional Independence\n",
    "\n",
    "![week3_2.png](images/week3_2.png)\n",
    "![week3_3.png](images/week3_3.png)"
   ]
  },
  {
   "cell_type": "markdown",
   "metadata": {},
   "source": [
    "## Naive Bayes Classifier\n",
    "\n",
    "정확하다고는 볼 수 없지만, 모든 condition들을 고려할 때 $(2^d - 1) * d * k$의 경우의 수를 $(2-1) * d * k$로 줄일 수 있다.\n",
    "\n",
    "관측되지 않은 내용에 대한 보정을 위해 MLE보다 MAP를 사용해야 한다. "
   ]
  }
 ],
 "metadata": {
  "kernelspec": {
   "display_name": "Python 3",
   "language": "python",
   "name": "python3"
  },
  "language_info": {
   "codemirror_mode": {
    "name": "ipython",
    "version": 3
   },
   "file_extension": ".py",
   "mimetype": "text/x-python",
   "name": "python",
   "nbconvert_exporter": "python",
   "pygments_lexer": "ipython3",
   "version": "3.6.1"
  }
 },
 "nbformat": 4,
 "nbformat_minor": 2
}
