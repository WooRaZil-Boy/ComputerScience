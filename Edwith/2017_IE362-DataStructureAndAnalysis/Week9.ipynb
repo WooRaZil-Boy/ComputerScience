{
 "cells": [
  {
   "cell_type": "markdown",
   "metadata": {},
   "source": [
    "# 2017_IE362\n",
    "# Week 9\n",
    "----"
   ]
  },
  {
   "cell_type": "markdown",
   "metadata": {},
   "source": [
    "### Priority Queue\n",
    "\n",
    "트리를 만들다 보면 어떤 경우에는 큐와 다름없는 구조로 만들어지기도 한다. 이런 경우를 방지하기 위해 Balanced Tree를 만든다. 우선순위 큐는 element와 함께 Priority도 저장을 한다."
   ]
  },
  {
   "cell_type": "markdown",
   "metadata": {},
   "source": [
    "### Implementation & performance of Priority Queue\n",
    "\n",
    "Lazy approach == Unsorted implementation : 그대로 enqueue. dequeue할 때 Priority가 가장 높은 것을 찾아 dequeue.\n",
    "Early-bird approach == Sorted implementation : enqueue할 때 sorting하여 Priority순으로 정렬. 그대로 dequeue.\n",
    "\n",
    "![week9_1.png](images/week9_1.png)"
   ]
  },
  {
   "cell_type": "code",
   "execution_count": 1,
   "metadata": {
    "collapsed": true
   },
   "outputs": [],
   "source": [
    "\"\"\"Week3에서 가져 옴\"\"\"\n",
    "\n",
    "class Node:\n",
    "    nodeNext = \"\"\n",
    "    objValue = \"\"\n",
    "    blnHead = False\n",
    "    blnTail = False\n",
    "    \n",
    "    def __init__(self, nodeNext = \"\", objValue = \"\", blnHead = False, blnTail = False):\n",
    "        self.nodeNext = nodeNext\n",
    "        self.objValue = objValue\n",
    "        self.blnHead = blnHead\n",
    "        self.blnTail = blnTail\n",
    "        \n",
    "    def getValue(self):\n",
    "        return self.objValue\n",
    "    \n",
    "    def setValue(self, objValue):\n",
    "        self.objValue = objValue\n",
    "        \n",
    "    def getNext(self):\n",
    "        return self.nodeNext\n",
    "    \n",
    "    def setNext(self, nodeNext):\n",
    "        self.nodeNext = nodeNext\n",
    "        \n",
    "    def isHead(self):\n",
    "        return self.blnHead\n",
    "    \n",
    "    def isTail(self):\n",
    "        return self.blnTail"
   ]
  },
  {
   "cell_type": "code",
   "execution_count": 2,
   "metadata": {
    "collapsed": true
   },
   "outputs": [],
   "source": [
    "\"\"\"Week3에서 가져 옴\"\"\"\n",
    "\n",
    "class SinglyLinkedList:\n",
    "    nodeHead = \"\"\n",
    "    nodeTail = \"\"\n",
    "    size = 0\n",
    "    \n",
    "    def __init__(self):\n",
    "        self.nodeTail = Node(blnTail=True)\n",
    "        self.nodeHead = Node(blnHead=True, nodeNext=self.nodeTail)\n",
    "        \n",
    "    def insertAt(self, objInsert, idxInsert):\n",
    "        nodeNew = Node(objValue=objInsert)\n",
    "        nodePrev = self.get(idxInsert - 1)\n",
    "        nodeNext = nodePrev.getNext()\n",
    "        nodePrev.setNext(nodeNew)\n",
    "        nodeNew.setNext(nodeNext)\n",
    "        self.size += 1\n",
    "        \n",
    "    def removeAt(self, idxRemove):\n",
    "        nodePrev = self.get(idxRemove - 1)\n",
    "        nodeRemove = nodePrev.getNext()\n",
    "        nodeNext = nodeRemove.getNext()\n",
    "        nodePrev.setNext(nodeNext)\n",
    "        self.size -= 1\n",
    "        \n",
    "        return nodeRemove.getValue() #삭제된 노드의 값 반환\n",
    "    \n",
    "    def get(self, idxRetrieve): #search\n",
    "        nodeReturn = self.nodeHead\n",
    "        for i in range(idxRetrieve + 1):\n",
    "            nodeReturn = nodeReturn.getNext() #인덱스가 없으므로 next로 다음 노드를 찾아가야 한다.\n",
    "\n",
    "        return nodeReturn\n",
    "    \n",
    "    def printStatus(self):\n",
    "        nodeCurrent = self.nodeHead\n",
    "        while nodeCurrent.getNext().isTail() == False: #마지막에 도달할 때까지\n",
    "            nodeCurrent = nodeCurrent.getNext()\n",
    "            print(nodeCurrent.getValue(), end=\" \")\n",
    "        print()\n",
    "    #이런 식으로 Head와 Tail이 꼭 필요한 요소는 아니지만, 있으면 편리하다.\n",
    "            \n",
    "    def getSize(self):\n",
    "        return self.size"
   ]
  },
  {
   "cell_type": "code",
   "execution_count": 3,
   "metadata": {
    "collapsed": false
   },
   "outputs": [
    {
     "name": "stdout",
     "output_type": "stream",
     "text": [
      "tae eog lee\n",
      "hayong shin\n",
      "taesik lee\n",
      "il-chul moon\n"
     ]
    }
   ],
   "source": [
    "class PriorityNode:\n",
    "    priority = -1\n",
    "    value = \"\"\n",
    "    \n",
    "    def __init__(self, value, priority):\n",
    "        self.priority = priority\n",
    "        self.value = value\n",
    "    def getValue(self):\n",
    "        return self.value\n",
    "    def getPriority(self):\n",
    "        return self.priority\n",
    "    \n",
    "class PriorityQueue:\n",
    "    list = \"\"\n",
    "    \n",
    "    def __init__(self):\n",
    "        self.list = SinglyLinkedList()\n",
    "    def enqueueWithPriority(self, value, priority):\n",
    "        idxInsert = 0\n",
    "        for itr in range(self.list.getSize()): #getSize로 사이즈 #enqueue하면서 sorting해서 저장한다.\n",
    "            node = self.list.get(itr) #리스트에서 하나씩 노드를 가져온다.\n",
    "            if node.getValue() == \"\": #값이 없으면 (tail)\n",
    "                idxInsert = itr #인덱스 지정하고 break\n",
    "                break\n",
    "            if node.getValue().getPriority() < priority: #현재 삽입하려는 노드의 priority가 더 크다면\n",
    "                idxInsert = itr #인덱스 지정 break. #sorting되어 있으므로 itr 뒤의 priority는 getPriority(itr의 priority)보다 항상 작다\n",
    "                break\n",
    "            else:\n",
    "                idxInsert = itr + 1 #인덱스 하나씩 증가하면서 다음 loop\n",
    "        self.list.insertAt(PriorityNode(value, priority), idxInsert) #idxInsert의 위치에 삽입\n",
    "    def dequeueWithPriority(self): #enqueue할 때 sorting 했으므로 가장 처음의 것을 pop해 주면 된다.(priority가 가장 높다)\n",
    "        return self.list.removeAt(0).getValue()\n",
    "    \n",
    "pq = PriorityQueue()\n",
    "pq.enqueueWithPriority(\"il-chul moon\", 1)\n",
    "pq.enqueueWithPriority(\"taesik lee\", 2)\n",
    "pq.enqueueWithPriority(\"hayong shin\", 3)\n",
    "pq.enqueueWithPriority(\"tae eog lee\", 99)\n",
    "\n",
    "print(pq.dequeueWithPriority())\n",
    "print(pq.dequeueWithPriority())\n",
    "print(pq.dequeueWithPriority())\n",
    "print(pq.dequeueWithPriority())"
   ]
  },
  {
   "cell_type": "markdown",
   "metadata": {},
   "source": [
    "### Balanced Tree\n",
    "\n",
    "![week9_2.png](images/week9_2.png)\n",
    "- If its size is n : **모든 tree는 밑의 조건을 만족한다.**\n",
    "    - $n \\le 2^{(h+1)}-1$\n",
    "    - 6 nodes in a tree of height 2\n",
    "        - Correct: $6 \\le 2^{2+1} −1 =2^3 − 1 = 7$\n",
    "    - 6 nodes in a tree of height 5\n",
    "        - Correct: $6≤2^{5+1} −1 = 2^6 − 1 = 63$\n",
    "- What-if… : **이 조건을 만족해야 balanced tree이다**\n",
    "    - $2^h−1<n\\le2^{h+1}−1$ : 이전 높이의 tree가 가득 차 있고, 지금 레벨에서 리프를 채워가는 중.\n",
    "    - 6 nodes in a tree of height 2\n",
    "        - $2^2−1<6\\le2^{2+1}−1$\n",
    "        - Correct: $3 < 6 \\le 7$\n",
    "    - 6 nodes in a tree of height 5\n",
    "        - $2^5−1<6\\le2^{5+1}−1$\n",
    "        - Incorrect: $31 < 6\\le 63$\n",
    "- 따라서\n",
    "    - Complete tree(Full tree이고 왼쪽부터 채워나가는 중인 트리) 이면 balanced tree : True\n",
    "    - Balanced tree 이면 complete tree : False (위의 그림처럼 위의 레벨은 Full이지만 왼쪽에서 부터 채워나가는 중이 아닐 수 있다.)"
   ]
  },
  {
   "cell_type": "markdown",
   "metadata": {},
   "source": [
    "### Binary Heap for Priority Queue\n",
    "\n",
    "Priority Queue 구현에 최적화된 Tree가 Binary Heap    \n",
    "Binary Heap은 Binary Tree(Parent 하나에 2개의 Child)에서 2가지를 만족해야 한다.\n",
    "- Complete tree이어야 한다.\n",
    "- Max Heap : parent가 더 높은 숫자를 가져야 한다.\n",
    "\n",
    "따라서 항상 Root만 dequeue하면 priority 순으로 빼 낼 수 있다.\n",
    "\n",
    "![week9_3.png](images/week9_3.png)    \n",
    "가장 오른쪽 트리만 Binary Heap"
   ]
  },
  {
   "cell_type": "markdown",
   "metadata": {},
   "source": [
    "### Reference Structure of Binary Heap\n",
    "\n",
    "![week9_4.png](images/week9_4.png)    \n",
    "![week9_5.png](images/week9_5.png)    \n",
    "Array를 써서 구현하는 경우"
   ]
  },
  {
   "cell_type": "markdown",
   "metadata": {},
   "source": [
    "### Insert Operation of Binary Heap\n",
    "\n",
    "Percolate-up : 삼투. leaf에서 root로 올라가며 insert : Complete Tree를 만들어야 하기 때문에 추가될 노드의 위치는 정해져 있다. 따라서 추가할 위치에 노드를 추가하고, Max Heap을 만족시키기 위해 부모 노드로 올라가면서 위치를 찾아간다.\n",
    "- 부모 노드의 값보다 추가한 값이 큰 경우 : Swap 후, 다음 부모 노드와 비교(재귀)\n",
    "- 부모 노드의 값보다 추가한 값이 작은 경우 : 그대로 Insert하고 종료\n",
    "\n",
    "\n",
    "\n"
   ]
  },
  {
   "cell_type": "code",
   "execution_count": 4,
   "metadata": {
    "collapsed": true
   },
   "outputs": [],
   "source": [
    "def enqueueWithPriority(self, value, priority): #enqueue\n",
    "    self.arrPriority[self.size] = priority\n",
    "    self.arrValue[self.size] = value\n",
    "    self.size = self.size + 1\n",
    "    self.percorlateUp(self.size+1) \n",
    "    #value와 priority를 Array에 추가하고(맨 마지막에. Complete Tree가 되어야 하므로), percorlateUp으로 위치를 찾아간다.\n",
    "    \n",
    "def percorlateUp(self, idxPercorlate): #처음 호출 시(재귀 X) 마지막에 저장된 값의 인덱스가 idxPercorlate로 들어오게 된다.\n",
    "    if idxPercorlate == 0: #더 이상 percorlateUp을 할 수 없는 상태(Root로 된 상태)\n",
    "        return\n",
    "    parent = int((idxPercorlate-1) / 2) #parent의 index를 찾아온다.\n",
    "    if self.arrPriority[parent] < self.arrPriority[idxPercorlate]: #값이 자식 노드가 더 큰 경우\n",
    "        self.arrPriority[parent], self.arrPriority[idxPercorlate] = self.arrPriority[idxPercorlate], self.arrPriority[parent] #swap\n",
    "        self.arrValue[parent], self.arrValue[idxPercorlate] = self.arrValue[idxPercorlate], self.arrValue[parent] #swap\n",
    "        self.percorlateUp(parent) #부모 노드로 올라와서 다시 percorlateUp 재귀 호출"
   ]
  },
  {
   "cell_type": "markdown",
   "metadata": {},
   "source": [
    "### Delete Operation of Binary Heap\n",
    "\n",
    "Insert와 반대 방향. Root에서 밑으로. percorlateDown.    \n",
    "Binary Heap에서 Delete는 항상 Root노드를 지운다. 하지만 그러면 Complete Tree가 유지가 되지 않으므로 마지막 노드를 Root로 올리고 다시 정렬한다. (Children 중에서 가장 큰 값과 Swap하면서 재귀)"
   ]
  },
  {
   "cell_type": "code",
   "execution_count": 5,
   "metadata": {
    "collapsed": true
   },
   "outputs": [],
   "source": [
    "def dequeueWithPriority(self): #dequeue\n",
    "    if self.size == 0:\n",
    "        return \"\"\n",
    "    retPriority = self.arrPriority[0] #Root를 Delete\n",
    "    retValue = self.arrValue[0] #Root를 Delete\n",
    "    self.arrPriority[0] = self.arrPriority[self.size - 1] #last node의 우선순위를 root로 복사\n",
    "    self.arrValue[0] = self.arrValue[self.size - 1] #last node의 값을 root로 복사\n",
    "    self.size = self.size - 1 #삭제했으므로 크기는 하나 줄어 든다.\n",
    "    self.percorlateDown(0)\n",
    "    #last node를 Root로 하고 percorlateDown하며 위치를 다시 찾아간다.\n",
    "    return retValue\n",
    "    \n",
    "def percorlateDown(self, idxPercorlate): #처음 호출 시(재귀 X) 루트의 인덱스가 idxPercorlate로 들어오게 된다.\n",
    "    if 2*idxPercorlate + 1 >= self.size: #더 이상 percorlateDown을 할 수 없는 상태(Leaf노드가 된 상태)\n",
    "        return\n",
    "    else:\n",
    "        leftChild = 2*idxPercorlate+1 #해당 인덱스 노드의 left child의 인덱스 값을 가져온다. #Complete Tree이기 때문에 left child가 없는 경우는 없다.\n",
    "        leftPriority = self.arrPriority[leftChild] \n",
    "    if 2*idxPercorlate + 2 >= self.size: #right child가 없는 경우\n",
    "        rightPriority = -99999 #Complete Tree이기 때문에 right child가 없는 경우도 있다.\n",
    "    else:\n",
    "        rightChild = 2*idxPercorlate+2 #해당 인덱스 노드의 right child의 인덱스값을 가져온다.\n",
    "        rightPriority = self.arrPriority[rightChild]\n",
    "    if leftPriority > rightPriority:\n",
    "        biggerChild = leftChild\n",
    "    else:\n",
    "        biggerChild = rightChild\n",
    "    if self.arrPriority[idxPercorlate] < self.arrPriority[biggerChild]: #값이 자식 노드가 더 큰 경우\n",
    "        self.arrPriority[idxPercorlate], self.arrPriority[biggerChild] = self.arrPriority[biggerChild], self.arrPriority[idxPercorlate] #swap\n",
    "        self.arrValue[idxPercorlate], self.arrValue[biggerChild] = self.arrValue[biggerChild], self.arrValue[idxPercorlate] #swap\n",
    "        self.percorlateDown(biggerChild) #다시 percorlateDown 재귀 호출 #자식 노드와 비교하게 된다."
   ]
  },
  {
   "cell_type": "markdown",
   "metadata": {},
   "source": [
    "### Complexity of Priority Queue and Heap Sort\n",
    "\n",
    "![week9_6.png](images/week9_6.png)    "
   ]
  },
  {
   "cell_type": "code",
   "execution_count": 6,
   "metadata": {
    "collapsed": false
   },
   "outputs": [
    {
     "name": "stdout",
     "output_type": "stream",
     "text": [
      "tae eog lee\n",
      "hayong shin\n",
      "taesik lee\n",
      "il-chul moon\n"
     ]
    }
   ],
   "source": [
    "class BinaryHeap:\n",
    "    arrPriority = {}\n",
    "    arrValue = {}\n",
    "    size = 0\n",
    "    \n",
    "    def __init__(self):\n",
    "        self.arrPriority = {}\n",
    "        self.arrValue = {}\n",
    "        self.size = 0\n",
    "        \n",
    "    def enqueueWithPriority(self, value, priority): #enqueue\n",
    "        self.arrPriority[self.size] = priority\n",
    "        self.arrValue[self.size] = value\n",
    "        self.size = self.size + 1\n",
    "        self.percorlateUp(self.size+1) \n",
    "        #value와 priority를 Array에 추가하고(맨 마지막에. Complete Tree가 되어야 하므로), percorlateUp으로 위치를 찾아간다.\n",
    "    \n",
    "    def percorlateUp(self, idxPercorlate): #처음 호출 시(재귀 X) 마지막에 저장된 값의 인덱스가 idxPercorlate로 들어오게 된다.\n",
    "        if idxPercorlate == 0: #더 이상 percorlateUp을 할 수 없는 상태(Root로 된 상태)\n",
    "            return\n",
    "        parent = int((idxPercorlate-1) / 2) #parent의 index를 찾아온다.\n",
    "        if self.arrPriority[parent] < self.arrPriority[idxPercorlate]: #값이 자식 노드가 더 큰 경우\n",
    "            self.arrPriority[parent], self.arrPriority[idxPercorlate] = self.arrPriority[idxPercorlate], self.arrPriority[parent] #swap\n",
    "            self.arrValue[parent], self.arrValue[idxPercorlate] = self.arrValue[idxPercorlate], self.arrValue[parent] #swap\n",
    "            self.percorlateUp(parent) #부모 노드로 올라와서 다시 percorlateUp 재귀 호출\n",
    "    \n",
    "    def dequeueWithPriority(self): #dequeue\n",
    "        if self.size == 0:\n",
    "            return \"\"\n",
    "        retPriority = self.arrPriority[0] #Root를 Delete\n",
    "        retValue = self.arrValue[0] #Root를 Delete\n",
    "        self.arrPriority[0] = self.arrPriority[self.size - 1] #last node의 우선순위를 root로 복사\n",
    "        self.arrValue[0] = self.arrValue[self.size - 1] #last node의 값을 root로 복사\n",
    "        self.size = self.size - 1 #삭제했으므로 크기는 하나 줄어 든다.\n",
    "        self.percorlateDown(0)\n",
    "        #last node를 Root로 하고 percorlateDown하며 위치를 다시 찾아간다.\n",
    "        return retValue\n",
    "\n",
    "    def percorlateDown(self, idxPercorlate): #처음 호출 시(재귀 X) 루트의 인덱스가 idxPercorlate로 들어오게 된다.\n",
    "        if 2*idxPercorlate + 1 >= self.size: #더 이상 percorlateDown을 할 수 없는 상태(Leaf노드가 된 상태)\n",
    "            return\n",
    "        else:\n",
    "            leftChild = 2*idxPercorlate+1 #해당 인덱스 노드의 left child의 인덱스 값을 가져온다. #Complete Tree이기 때문에 left child가 없는 경우는 없다.\n",
    "            leftPriority = self.arrPriority[leftChild] \n",
    "        if 2*idxPercorlate + 2 >= self.size: #right child가 없는 경우\n",
    "            rightPriority = -99999 #Complete Tree이기 때문에 right child가 없는 경우도 있다.\n",
    "        else:\n",
    "            rightChild = 2*idxPercorlate+2 #해당 인덱스 노드의 right child의 인덱스값을 가져온다.\n",
    "            rightPriority = self.arrPriority[rightChild]\n",
    "        if leftPriority > rightPriority:\n",
    "            biggerChild = leftChild\n",
    "        else:\n",
    "            biggerChild = rightChild\n",
    "        if self.arrPriority[idxPercorlate] < self.arrPriority[biggerChild]: #값이 자식 노드가 더 큰 경우\n",
    "            self.arrPriority[idxPercorlate], self.arrPriority[biggerChild] = self.arrPriority[biggerChild], self.arrPriority[idxPercorlate] #swap\n",
    "            self.arrValue[idxPercorlate], self.arrValue[biggerChild] = self.arrValue[biggerChild], self.arrValue[idxPercorlate] #swap\n",
    "            self.percorlateDown(biggerChild) #다시 percorlateDown 재귀 호출 #자식 노드와 비교하게 된다.\n",
    "            \n",
    "pd = BinaryHeap()\n",
    "pq.enqueueWithPriority(\"il-chul moon\", 1)\n",
    "pq.enqueueWithPriority(\"taesik lee\", 2)\n",
    "pq.enqueueWithPriority(\"hayong shin\", 3)\n",
    "pq.enqueueWithPriority(\"tae eog lee\", 99)\n",
    "\n",
    "print(pq.dequeueWithPriority())\n",
    "print(pq.dequeueWithPriority())\n",
    "print(pq.dequeueWithPriority())\n",
    "print(pq.dequeueWithPriority())"
   ]
  }
 ],
 "metadata": {
  "kernelspec": {
   "display_name": "Python 3",
   "language": "python",
   "name": "python3"
  },
  "language_info": {
   "codemirror_mode": {
    "name": "ipython",
    "version": 3
   },
   "file_extension": ".py",
   "mimetype": "text/x-python",
   "name": "python",
   "nbconvert_exporter": "python",
   "pygments_lexer": "ipython3",
   "version": "3.6.0"
  }
 },
 "nbformat": 4,
 "nbformat_minor": 2
}
