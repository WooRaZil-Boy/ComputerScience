{
 "cells": [
  {
   "cell_type": "markdown",
   "metadata": {},
   "source": [
    "# 2017_IE362\n",
    "# Week 5\n",
    "----"
   ]
  },
  {
   "attachments": {},
   "cell_type": "markdown",
   "metadata": {
    "collapsed": true
   },
   "source": [
    "## Introduction of modeling\n",
    "\n",
    "Antoine de Saint-Exupery\n",
    "> Perfection is achieved, not when there is nothing more to add, but when there is nothing left to take away\n",
    "\n",
    "Two Types of Models\n",
    "- Models to solve\n",
    "    - Numerical modeling\n",
    "    - Linear programming, Integer programming\n",
    "    - Goal: converting the real world problems into formula, then finding optimal solutions through solvers (현실의 문제를 공식으로 표현. ex. 수요-공급 곡선)\n",
    "- Models to simulate\n",
    "    - System dynamics, discrete event models, agent based models\n",
    "    - Event graphs, petri-net, agent modeling\n",
    "    - Goal: approximating to the real world problems, then finding the optimal solutions through repetitive simulations (딱 떨어지는 해를 찾을 수는 없다. 다양한 시뮬레이션을 반복해 최적의 예측치를 찾기 위한 모델)"
   ]
  }
 ],
 "metadata": {
  "kernelspec": {
   "display_name": "Python 3",
   "language": "python",
   "name": "python3"
  },
  "language_info": {
   "codemirror_mode": {
    "name": "ipython",
    "version": 3
   },
   "file_extension": ".py",
   "mimetype": "text/x-python",
   "name": "python",
   "nbconvert_exporter": "python",
   "pygments_lexer": "ipython3",
   "version": "3.6.1"
  }
 },
 "nbformat": 4,
 "nbformat_minor": 2
}
