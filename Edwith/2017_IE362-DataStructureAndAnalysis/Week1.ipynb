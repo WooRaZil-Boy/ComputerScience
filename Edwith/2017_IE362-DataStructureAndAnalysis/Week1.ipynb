{
 "cells": [
  {
   "cell_type": "markdown",
   "metadata": {},
   "source": [
    "# 2017_IE362\n",
    "# Week 1\n",
    "----"
   ]
  },
  {
   "cell_type": "markdown",
   "metadata": {},
   "source": [
    "### Hello World in Python"
   ]
  },
  {
   "cell_type": "code",
   "execution_count": 1,
   "metadata": {
    "collapsed": true
   },
   "outputs": [],
   "source": [
    "class HelloWorld:\n",
    "    def __init__(self): #클래스 생성 시\n",
    "        print(\"Hello World!\")\n",
    "    def __del__(self): #클래스 삭제 시\n",
    "        print(\"Bye World!\")"
   ]
  },
  {
   "cell_type": "markdown",
   "metadata": {},
   "source": [
    "### Variable Statements and Operators"
   ]
  },
  {
   "cell_type": "code",
   "execution_count": 2,
   "metadata": {
    "collapsed": false
   },
   "outputs": [
    {
     "name": "stdout",
     "output_type": "stream",
     "text": [
      "4.0\n",
      "3.0\n",
      "numTest1 : 3.000000, numTest2 : 10\n"
     ]
    }
   ],
   "source": [
    "#복소수 \n",
    "numComplex1 = complex(4, 3)\n",
    "numComplex2 = 4 + 3j\n",
    "\n",
    "print(numComplex1.real)\n",
    "print(numComplex1.imag)\n",
    "\n",
    "numTest1 = 10\n",
    "numTest2 = 3.0"
   ]
  },
  {
   "cell_type": "code",
   "execution_count": null,
   "metadata": {
    "collapsed": true
   },
   "outputs": [],
   "source": [
    "numTest2, numTest1 = numTest1, numTest2 #swap\n",
    "print(\"numTest1 : %f, numTest2 : %d\" % (numTest1, numTest2))"
   ]
  },
  {
   "cell_type": "markdown",
   "metadata": {},
   "source": [
    "### String"
   ]
  },
  {
   "cell_type": "code",
   "execution_count": 3,
   "metadata": {
    "collapsed": false
   },
   "outputs": [
    {
     "name": "stdout",
     "output_type": "stream",
     "text": [
      "**********\n"
     ]
    }
   ],
   "source": [
    "print(\"*\"*10)"
   ]
  },
  {
   "cell_type": "markdown",
   "metadata": {},
   "source": [
    "### List, Tuple, Dictionary"
   ]
  },
  {
   "cell_type": "code",
   "execution_count": 4,
   "metadata": {
    "collapsed": false
   },
   "outputs": [
    {
     "name": "stdout",
     "output_type": "stream",
     "text": [
      "[1, 2, 3, 4, 1, 2, 3, 4]\n",
      "[1, 2, 3, 4, 1, 2, 3, 4, 1, 2, 3, 4]\n",
      "True False\n",
      "(1, 2, 3, 1, 2, 3)\n",
      "(1, 2, 3, 1, 2, 3, 1, 2, 3)\n",
      "{1: 'one', 2: 'two', 3: 'three'}\n",
      "dict_keys([1, 2, 3])\n",
      "dict_values(['one', 'two', 'three'])\n",
      "dict_items([(1, 'one'), (2, 'two'), (3, 'three')])\n"
     ]
    }
   ],
   "source": [
    "\"\"\"List [] \"\"\"\n",
    "listTest = [1, 2, 3, 4]\n",
    "\n",
    "print(listTest + listTest) #Numpy와 다르다\n",
    "print(listTest * 3)\n",
    "print(4 in listTest, 10 in listTest)\n",
    "\n",
    "del listTest[0] #index == 0 인 요소 삭제\n",
    "listTest.remove(4) #index 아닌 4 삭제\n",
    "listTest.reverse()\n",
    "listTest.sort()\n",
    "\n",
    "tupleTest = (1, 2, 3) #리스트와 거의 동일\n",
    "print(tupleTest + tupleTest)\n",
    "print(tupleTest * 3)"
   ]
  },
  {
   "cell_type": "code",
   "execution_count": null,
   "metadata": {
    "collapsed": true
   },
   "outputs": [],
   "source": [
    "\"\"\"Tuple () \"\"\"\n",
    "#단 tupleTest[0] = 3처럼 값의 재할당은 불가능 하다. 튜플은 상수\n",
    "\"\"\"TypeError: 'tuple' object does not support item assignment\"\"\""
   ]
  },
  {
   "cell_type": "code",
   "execution_count": null,
   "metadata": {
    "collapsed": true
   },
   "outputs": [],
   "source": [
    "\"\"\"Dictionary {} \"\"\"\n",
    "dicTest = {1: \"one\", 2: \"two\", 3: \"three\"}\n",
    "\n",
    "print(dicTest)\n",
    "print(dicTest.keys())\n",
    "print(dicTest.values())\n",
    "print(dicTest.items()) #튜플형 리스트로 반환"
   ]
  },
  {
   "cell_type": "markdown",
   "metadata": {},
   "source": [
    "### Condition and Loop Satement"
   ]
  },
  {
   "cell_type": "code",
   "execution_count": null,
   "metadata": {
    "collapsed": true
   },
   "outputs": [],
   "source": [
    "if 1: #True. int도 T/F 구문으로 쓸 수 있다.\n",
    "    print(\"Hello\")\n",
    "    \n",
    "#파이썬은 Switch 구문이 없다.\n",
    "\n",
    "#range(x, y, z) indexing에서와 같다. \n",
    "#ragne(to) : 하나만 있는 경우\n",
    "#range(from, to) : 두 개 있는 경우\n",
    "#range(from, to, step) : 세 개 있는 경우"
   ]
  },
  {
   "cell_type": "code",
   "execution_count": null,
   "metadata": {
    "collapsed": true
   },
   "outputs": [],
   "source": [
    "for i in range(3):\n",
    "    print(i)\n",
    "else: print(\"done\") #에러나 중단 없이 반복문이 끝난 경우 호출 된다."
   ]
  },
  {
   "cell_type": "code",
   "execution_count": null,
   "metadata": {
    "collapsed": true
   },
   "outputs": [],
   "source": [
    "for i in range(3):\n",
    "    if i is 2:\n",
    "        break\n",
    "    print(i)\n",
    "else: print(\"done\") #i is 2에서 종료되었으므로 호출되지 않는다."
   ]
  },
  {
   "cell_type": "markdown",
   "metadata": {},
   "source": [
    "### Function Statement"
   ]
  },
  {
   "cell_type": "code",
   "execution_count": 5,
   "metadata": {
    "collapsed": false
   },
   "outputs": [
    {
     "name": "stdout",
     "output_type": "stream",
     "text": [
      "12\n",
      "8\n"
     ]
    }
   ],
   "source": [
    "#다중 반환을 할 수 있다. 자료형을 따로 적어줄 필요 없다.\n",
    "\n",
    "def function(num1, num2):\n",
    "    return num1+num2, num1-num2\n",
    "\n",
    "x, y = function(10, 2)\n",
    "print(x)\n",
    "print(y)"
   ]
  },
  {
   "cell_type": "code",
   "execution_count": 6,
   "metadata": {
    "collapsed": false
   },
   "outputs": [
    {
     "name": "stdout",
     "output_type": "stream",
     "text": [
      "3\n"
     ]
    }
   ],
   "source": [
    "#lambda 함수\n",
    "lambdaAdd = lambda num1, num2: num1 + num2\n",
    "print(lambdaAdd(1, 2))"
   ]
  },
  {
   "cell_type": "markdown",
   "metadata": {},
   "source": [
    "### Assignment and Equivalence"
   ]
  },
  {
   "cell_type": "code",
   "execution_count": 8,
   "metadata": {
    "collapsed": false
   },
   "outputs": [
    {
     "name": "stdout",
     "output_type": "stream",
     "text": [
      "x :  2\n",
      "y:  [100, 1, 120]\n",
      "z :  [1, 'a', 'b']\n"
     ]
    }
   ],
   "source": [
    "x = 1\n",
    "y = [100, x, 120]\n",
    "z = [x, \"a\", \"b\"]\n",
    "\n",
    "x = 2\n",
    "\n",
    "print(\"x : \", x)\n",
    "print(\"y: \", y)\n",
    "print(\"z : \", z)\n",
    "#x가 object가 아니므로, 값이 그대로 copy 됐기 때문에 x값이 변화해도 y, z에서는 변하지 않는다."
   ]
  },
  {
   "cell_type": "code",
   "execution_count": 9,
   "metadata": {
    "collapsed": false
   },
   "outputs": [
    {
     "name": "stdout",
     "output_type": "stream",
     "text": [
      "x :  [1, 1717, 3]\n",
      "y:  [100, [1, 1717, 3], 120]\n",
      "z :  [[1, 1717, 3], 'a', 'b']\n"
     ]
    }
   ],
   "source": [
    "x = [1, 2, 3]\n",
    "y = [100, x, 120]\n",
    "z = [x, \"a\", \"b\"]\n",
    "\n",
    "x[1] = 1717\n",
    "\n",
    "print(\"x : \", x)\n",
    "print(\"y: \", y)\n",
    "print(\"z : \", z)\n",
    "#y, z에서 x(object)가 reference로 연결되어 있기 때문에 값이 변한다."
   ]
  },
  {
   "cell_type": "code",
   "execution_count": 10,
   "metadata": {
    "collapsed": false
   },
   "outputs": [
    {
     "name": "stdout",
     "output_type": "stream",
     "text": [
      "True\n"
     ]
    }
   ],
   "source": [
    "x[1] = 2\n",
    "x2 = [1, 2, 3]\n"
   ]
  },
  {
   "cell_type": "code",
   "execution_count": 11,
   "metadata": {
    "collapsed": false
   },
   "outputs": [
    {
     "name": "stdout",
     "output_type": "stream",
     "text": [
      "True\n"
     ]
    }
   ],
   "source": [
    "if x == x2: # == : checks the equivalence of two referenced values : 레퍼런스 안의 값을 비교한다.\n",
    "    print(\"True\") \n",
    "else:\n",
    "    print(\"False\")"
   ]
  },
  {
   "cell_type": "code",
   "execution_count": 12,
   "metadata": {
    "collapsed": false
   },
   "outputs": [
    {
     "name": "stdout",
     "output_type": "stream",
     "text": [
      "False\n"
     ]
    }
   ],
   "source": [
    "if x is x2: # is : checks the equivalence of two referenced object's IDs : 레퍼런스의 메모리 주소를 비교한다.\n",
    "    print(\"True\") \n",
    "else:\n",
    "    print(\"False\")"
   ]
  },
  {
   "cell_type": "code",
   "execution_count": 13,
   "metadata": {
    "collapsed": false
   },
   "outputs": [
    {
     "name": "stdout",
     "output_type": "stream",
     "text": [
      "True\n"
     ]
    }
   ],
   "source": [
    "if x[1] is y[1][1]: # is : checks the equivalence of two referenced object's IDs : 레퍼런스의 메모리 주소를 비교한다.\n",
    "    print(\"True\") \n",
    "else:\n",
    "    print(\"False\")"
   ]
  },
  {
   "cell_type": "markdown",
   "metadata": {},
   "source": [
    "### Class and Instance"
   ]
  },
  {
   "cell_type": "code",
   "execution_count": 14,
   "metadata": {
    "collapsed": false
   },
   "outputs": [
    {
     "name": "stdout",
     "output_type": "stream",
     "text": [
      "Hello World!\n",
      "Bye World!\n"
     ]
    }
   ],
   "source": [
    "class HelloWorld:\n",
    "    def __init__(self): #클래스 생성 시\n",
    "        print(\"Hello World!\")\n",
    "    def __del__(self): #클래스 삭제 시\n",
    "        print(\"Bye World!\")\n",
    "        \n",
    "hello1 = HelloWorld()\n",
    "del hello1"
   ]
  },
  {
   "cell_type": "markdown",
   "metadata": {},
   "source": [
    "### Module and Import\n",
    "\n",
    "![images/week1.png](images/week1.png)"
   ]
  },
  {
   "cell_type": "code",
   "execution_count": null,
   "metadata": {
    "collapsed": true
   },
   "outputs": [],
   "source": [
    "from time import ctime #time의 ctime 불러온다.\n",
    "#같은 디렉토리에 있는 모듈을 import할 때는 from을 생략할 수 있다."
   ]
  }
 ],
 "metadata": {
  "kernelspec": {
   "display_name": "Python 3",
   "language": "python",
   "name": "python3"
  },
  "language_info": {
   "codemirror_mode": {
    "name": "ipython",
    "version": 3
   },
   "file_extension": ".py",
   "mimetype": "text/x-python",
   "name": "python",
   "nbconvert_exporter": "python",
   "pygments_lexer": "ipython3",
   "version": "3.6.0"
  }
 },
 "nbformat": 4,
 "nbformat_minor": 2
}
