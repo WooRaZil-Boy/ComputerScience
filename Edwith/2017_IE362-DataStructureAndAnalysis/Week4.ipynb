{
 "cells": [
  {
   "cell_type": "markdown",
   "metadata": {},
   "source": [
    "# 2017_IE362\n",
    "# Week 4\n",
    "----"
   ]
  },
  {
   "cell_type": "markdown",
   "metadata": {},
   "source": [
    "## Recursions\n",
    "\n",
    "Repeating Problems를 Divide and Conquer로 해결한다(재귀).     \n",
    "ex) 점화식(팩토리얼이 대표적), GCD(최대공약수: 유클리드 알고리즘)\n",
    "\n",
    "![week4_1.png](images/week4_1.png)"
   ]
  },
  {
   "cell_type": "code",
   "execution_count": 1,
   "metadata": {
    "collapsed": false
   },
   "outputs": [
    {
     "name": "stdout",
     "output_type": "stream",
     "text": [
      "0 1 1 2 3 5 8 13 21 34 "
     ]
    }
   ],
   "source": [
    "def fibonacci(n):\n",
    "    if n == 0:\n",
    "        return 0\n",
    "    if n == 1:\n",
    "        return 1\n",
    "    intRet = fibonacci(n-1) + fibonacci(n-2)\n",
    "    return intRet\n",
    "\n",
    "for i in range(0, 10):\n",
    "    print(fibonacci(i), end=\" \")"
   ]
  },
  {
   "cell_type": "markdown",
   "metadata": {},
   "source": [
    "## Merge Sort and Problems in Recursions\n",
    "\n",
    "문제점 : 같은 파라미터로 같은 함수를 호출하는 경우가 많아 메모리와 시간 낭비가 심하다.\n",
    "\n",
    "![week4_2.png](images/week4_2.png)"
   ]
  },
  {
   "cell_type": "code",
   "execution_count": 17,
   "metadata": {
    "collapsed": true
   },
   "outputs": [],
   "source": [
    "def performMergeSort(listElementToSort):\n",
    "    #Execution Code\n",
    "    if len(listElementToSort) == 1: #Break\n",
    "        return listElementToSort\n",
    "    \n",
    "    #Decomposition\n",
    "    listSubElementToSort1 = [] #앞의 절반을 담을 리스트\n",
    "    listSubElementToSort2 = [] #뒤의 절반을 담을 리스트\n",
    "    \n",
    "    for i in range(len(listElementToSort)):\n",
    "        if len(listElementToSort)/2 > i:\n",
    "            listSubElementToSort1.append(listElementToSort[i])\n",
    "        else:\n",
    "            listSubElementToSort2.append(listElementToSort[i])\n",
    "\n",
    "    #Recursion\n",
    "    listSubElementToSort1 = performMergeSort(listSubElementToSort1)\n",
    "    listSubElementToSort2 = performMergeSort(listSubElementToSort2)\n",
    "    #각각 1개씩 요소를 가지고 있을 때까지 나눠서 각 리스트에 넣는다. \n",
    "    #각 부분만큼 정렬되서 반환된다.\n",
    "    \n",
    "    #Aggregation\n",
    "    idxCount1 = 0\n",
    "    idxCount2 = 0\n",
    "    \n",
    "    for i in range(len(listElementToSort)): #각 각 나눠진 요소들의 크기를 비교해 다시 정렬된 리스트를 만든다.\n",
    "    #위에서 이미 각 listSubElementToSort1와 listSubElementToSort2 안의 요소들은 정렬이 끝나 있는 상태이다.\n",
    "    #따라서 각 리스트들의 해당 인덱스의 요소들을 비교해서 정렬한다. \n",
    "        if idxCount1 == len(listSubElementToSort1): #listSubElementToSort1의 요소를 다 쓴 상태\n",
    "            listElementToSort[i] = listSubElementToSort2[idxCount2]\n",
    "            idxCount2 += 1\n",
    "        elif idxCount2 == len(listSubElementToSort2): #listSubElementToSort2의 요소를 다 쓴 상태\n",
    "            listElementToSort[i] = listSubElementToSort1[idxCount1]\n",
    "            idxCount1 += 1\n",
    "        elif listSubElementToSort1[idxCount1] > listSubElementToSort2[idxCount2]:\n",
    "            listElementToSort[i] = listSubElementToSort2[idxCount2]\n",
    "            idxCount2 += 1\n",
    "        else:\n",
    "            listElementToSort[i] = listSubElementToSort1[idxCount1]\n",
    "            idxCount1 += 1\n",
    "            \n",
    "    return listElementToSort"
   ]
  },
  {
   "cell_type": "code",
   "execution_count": 18,
   "metadata": {
    "collapsed": false
   },
   "outputs": [
    {
     "name": "stdout",
     "output_type": "stream",
     "text": [
      "[10, 40, 0, 63, 71, 33, 77, 0, 91, 30]\n",
      "[0, 0, 10, 30, 33, 40, 63, 71, 77, 91]\n"
     ]
    }
   ],
   "source": [
    "import random\n",
    "\n",
    "listRandom = []\n",
    "\n",
    "for i in range(0, 10):\n",
    "    listRandom.append(random.randrange(0, 100)) #범위에서 랜덤 수 생성\n",
    "\n",
    "print(listRandom)\n",
    "listRandom = performMergeSort(listRandom)\n",
    "print(listRandom)"
   ]
  },
  {
   "cell_type": "markdown",
   "metadata": {},
   "source": [
    "## Dynamic Programming 1 (Memoization)\n",
    "\n",
    "Recursions의 문제점을 고치기 위해 한 번 호출한 함수의 결과를 저장해 둔다.\n",
    "먼저 자주 반복 될 작은 경우를 실행해 (피보나치의 경우, f(0), f(1), f(2), f(3), f(4) 등) 그 값을 저장해 둔다.\n",
    "그 후 큰 값을 실행할 경우 이미 실행했던 값들을 활용한다.\n",
    "\n",
    "- Recursion Programming : Top - Down\n",
    "- Dynamic Programming : Bottom - Up\n",
    "\n",
    "![week4_3.png](images/week4_3.png)"
   ]
  },
  {
   "cell_type": "markdown",
   "metadata": {},
   "source": [
    "## Fibonacci Sequence in DP\n",
    "\n",
    "$O(2^n)$이 $O(N)$로 줄어든다."
   ]
  },
  {
   "cell_type": "code",
   "execution_count": 22,
   "metadata": {
    "collapsed": true
   },
   "outputs": [],
   "source": [
    "def fibonacciDP(n):\n",
    "    #Setting up a memoization table\n",
    "    dicFibonacci = {} #딕셔너리\n",
    "    dicFibonacci[0] = 0 #f(0) = 0\n",
    "    dicFibonacci[1] = 1 #f(1) = 1\n",
    "    \n",
    "    for i in range(2, n+1): #Building up a bigger solutions\n",
    "        dicFibonacci[i] = dicFibonacci[i-1] + dicFibonacci[i-2]\n",
    "        \n",
    "    return dicFibonacci[n]"
   ]
  },
  {
   "cell_type": "code",
   "execution_count": 23,
   "metadata": {
    "collapsed": false
   },
   "outputs": [
    {
     "name": "stdout",
     "output_type": "stream",
     "text": [
      "0 1 1 2 3 5 8 13 21 34 "
     ]
    }
   ],
   "source": [
    "for i in range(0, 10):\n",
    "    print(fibonacciDP(i), end=\" \")"
   ]
  },
  {
   "cell_type": "markdown",
   "metadata": {},
   "source": [
    "## Process of Assembly Line Scheduling\n",
    "\n",
    "공정계획, 스케쥴링에서 DP가 자주 쓰인다. \n",
    "\n",
    "![week4_4.png](images/week4_4.png)\n",
    "\n",
    "각 라인까지 오는 데 걸리는 최소 시간을 찾는다. 이전 상태까지 가는데 최소 시간이 걸리는 상태를 테이블에 저장해 두고, 각 단계마다 4가지의 경우의 수만 비교한다. 재귀로 했을 경우에는 각 경우마다 하위 상태를 다시 계산하므로 비효율적이다."
   ]
  },
  {
   "cell_type": "markdown",
   "metadata": {},
   "source": [
    "## Assembly Line Scheduling in Recursion and DP"
   ]
  },
  {
   "cell_type": "code",
   "execution_count": 29,
   "metadata": {
    "collapsed": true
   },
   "outputs": [],
   "source": [
    "#Recursion\n",
    "class AsseblyLines:\n",
    "    timeStation = [[7, 9, 3, 4, 8, 4], [8, 5, 6, 4, 5, 7]] # 라인 상태에서의 시간\n",
    "    timeBelt = [[2, 2, 3, 1, 3, 4, 3], [4, 2, 1, 2, 2, 1, 2]] #라인 바꾸는 데 드는 시간\n",
    "    intCount = 0\n",
    "    \n",
    "    def Scheduling(self, idxLine, idxStation): #위에서 부터 내려가며 답을 찾는다.\n",
    "        print(\"Calculate scheduling: line, station : \", idxLine, idxStation, \"( \", self.intCount, \"recursion calls )\")\n",
    "        self.intCount += 1\n",
    "        if idxStation == 0: #init 상태라면\n",
    "            if idxLine == 1: #라인 1\n",
    "                return self.timeBelt[0][0] + self.timeStation[0][0]\n",
    "            elif idxLine == 2: #라인 2\n",
    "                return self.timeBelt[1][0] + self.timeStation[1][0]\n",
    "        if idxLine == 1: #생산라인 1\n",
    "            costLine1 = self.Scheduling(1, idxStation-1) + self.timeStation[0][idxStation] #라인1의 이전 상태 비용 + 현재 상태 비용\n",
    "            costLine2 = self.Scheduling(2, idxStation-1) + self.timeStation[0][idxStation] + self.timeBelt[1][idxStation] #라인2의 이전 상태 비용 + 현재 상태 비용 + 라인 교체 비용\n",
    "        elif idxLine == 2: #생산라인 2\n",
    "            costLine1 = self.Scheduling(1, idxStation-1) + self.timeStation[1][idxStation] + self.timeBelt[0][idxStation] #라인1의 이전 상태 비용 + 현재 상태 비용 + 라인 교체 비용\n",
    "            costLine2 = self.Scheduling(2, idxStation-1) + self.timeStation[1][idxStation] #라인2의 이전 상태 비용 + 현재 상태 비용\n",
    "\n",
    "        if costLine1 > costLine2: #시간 비용이 낮은 것을 선택한다.\n",
    "            return costLine2\n",
    "        else:\n",
    "            return costLine1\n",
    "        \n",
    "    def startScheduling(self): #재귀는 Top-Down 방식\n",
    "        numStation = len(self.timeStation[0]) #전체 라인의 상태 수를 구해서 결과에서부터 밑으로 내려가며 탐색한다.\n",
    "        costLine1 = self.Scheduling(1, numStation-1) + self.timeBelt[0][numStation] #라인1의 마지막 상태\n",
    "        costLine2 = self.Scheduling(2, numStation-1) + self.timeBelt[1][numStation] #라인2읨 마지막 상태\n",
    "        if costLine1 > costLine2: #시간 비용이 낮은 것을 선택한다.\n",
    "            return costLine2\n",
    "        else:\n",
    "            return costLine1            "
   ]
  },
  {
   "cell_type": "code",
   "execution_count": 30,
   "metadata": {
    "collapsed": false
   },
   "outputs": [
    {
     "name": "stdout",
     "output_type": "stream",
     "text": [
      "Calculate scheduling: line, station :  1 5 (  0 recursion calls )\n",
      "Calculate scheduling: line, station :  1 4 (  1 recursion calls )\n",
      "Calculate scheduling: line, station :  1 3 (  2 recursion calls )\n",
      "Calculate scheduling: line, station :  1 2 (  3 recursion calls )\n",
      "Calculate scheduling: line, station :  1 1 (  4 recursion calls )\n",
      "Calculate scheduling: line, station :  1 0 (  5 recursion calls )\n",
      "Calculate scheduling: line, station :  2 0 (  6 recursion calls )\n",
      "Calculate scheduling: line, station :  2 1 (  7 recursion calls )\n",
      "Calculate scheduling: line, station :  1 0 (  8 recursion calls )\n",
      "Calculate scheduling: line, station :  2 0 (  9 recursion calls )\n",
      "Calculate scheduling: line, station :  2 2 (  10 recursion calls )\n",
      "Calculate scheduling: line, station :  1 1 (  11 recursion calls )\n",
      "Calculate scheduling: line, station :  1 0 (  12 recursion calls )\n",
      "Calculate scheduling: line, station :  2 0 (  13 recursion calls )\n",
      "Calculate scheduling: line, station :  2 1 (  14 recursion calls )\n",
      "Calculate scheduling: line, station :  1 0 (  15 recursion calls )\n",
      "Calculate scheduling: line, station :  2 0 (  16 recursion calls )\n",
      "Calculate scheduling: line, station :  2 3 (  17 recursion calls )\n",
      "Calculate scheduling: line, station :  1 2 (  18 recursion calls )\n",
      "Calculate scheduling: line, station :  1 1 (  19 recursion calls )\n",
      "Calculate scheduling: line, station :  1 0 (  20 recursion calls )\n",
      "Calculate scheduling: line, station :  2 0 (  21 recursion calls )\n",
      "Calculate scheduling: line, station :  2 1 (  22 recursion calls )\n",
      "Calculate scheduling: line, station :  1 0 (  23 recursion calls )\n",
      "Calculate scheduling: line, station :  2 0 (  24 recursion calls )\n",
      "Calculate scheduling: line, station :  2 2 (  25 recursion calls )\n",
      "Calculate scheduling: line, station :  1 1 (  26 recursion calls )\n",
      "Calculate scheduling: line, station :  1 0 (  27 recursion calls )\n",
      "Calculate scheduling: line, station :  2 0 (  28 recursion calls )\n",
      "Calculate scheduling: line, station :  2 1 (  29 recursion calls )\n",
      "Calculate scheduling: line, station :  1 0 (  30 recursion calls )\n",
      "Calculate scheduling: line, station :  2 0 (  31 recursion calls )\n",
      "Calculate scheduling: line, station :  2 4 (  32 recursion calls )\n",
      "Calculate scheduling: line, station :  1 3 (  33 recursion calls )\n",
      "Calculate scheduling: line, station :  1 2 (  34 recursion calls )\n",
      "Calculate scheduling: line, station :  1 1 (  35 recursion calls )\n",
      "Calculate scheduling: line, station :  1 0 (  36 recursion calls )\n",
      "Calculate scheduling: line, station :  2 0 (  37 recursion calls )\n",
      "Calculate scheduling: line, station :  2 1 (  38 recursion calls )\n",
      "Calculate scheduling: line, station :  1 0 (  39 recursion calls )\n",
      "Calculate scheduling: line, station :  2 0 (  40 recursion calls )\n",
      "Calculate scheduling: line, station :  2 2 (  41 recursion calls )\n",
      "Calculate scheduling: line, station :  1 1 (  42 recursion calls )\n",
      "Calculate scheduling: line, station :  1 0 (  43 recursion calls )\n",
      "Calculate scheduling: line, station :  2 0 (  44 recursion calls )\n",
      "Calculate scheduling: line, station :  2 1 (  45 recursion calls )\n",
      "Calculate scheduling: line, station :  1 0 (  46 recursion calls )\n",
      "Calculate scheduling: line, station :  2 0 (  47 recursion calls )\n",
      "Calculate scheduling: line, station :  2 3 (  48 recursion calls )\n",
      "Calculate scheduling: line, station :  1 2 (  49 recursion calls )\n",
      "Calculate scheduling: line, station :  1 1 (  50 recursion calls )\n",
      "Calculate scheduling: line, station :  1 0 (  51 recursion calls )\n",
      "Calculate scheduling: line, station :  2 0 (  52 recursion calls )\n",
      "Calculate scheduling: line, station :  2 1 (  53 recursion calls )\n",
      "Calculate scheduling: line, station :  1 0 (  54 recursion calls )\n",
      "Calculate scheduling: line, station :  2 0 (  55 recursion calls )\n",
      "Calculate scheduling: line, station :  2 2 (  56 recursion calls )\n",
      "Calculate scheduling: line, station :  1 1 (  57 recursion calls )\n",
      "Calculate scheduling: line, station :  1 0 (  58 recursion calls )\n",
      "Calculate scheduling: line, station :  2 0 (  59 recursion calls )\n",
      "Calculate scheduling: line, station :  2 1 (  60 recursion calls )\n",
      "Calculate scheduling: line, station :  1 0 (  61 recursion calls )\n",
      "Calculate scheduling: line, station :  2 0 (  62 recursion calls )\n",
      "Calculate scheduling: line, station :  2 5 (  63 recursion calls )\n",
      "Calculate scheduling: line, station :  1 4 (  64 recursion calls )\n",
      "Calculate scheduling: line, station :  1 3 (  65 recursion calls )\n",
      "Calculate scheduling: line, station :  1 2 (  66 recursion calls )\n",
      "Calculate scheduling: line, station :  1 1 (  67 recursion calls )\n",
      "Calculate scheduling: line, station :  1 0 (  68 recursion calls )\n",
      "Calculate scheduling: line, station :  2 0 (  69 recursion calls )\n",
      "Calculate scheduling: line, station :  2 1 (  70 recursion calls )\n",
      "Calculate scheduling: line, station :  1 0 (  71 recursion calls )\n",
      "Calculate scheduling: line, station :  2 0 (  72 recursion calls )\n",
      "Calculate scheduling: line, station :  2 2 (  73 recursion calls )\n",
      "Calculate scheduling: line, station :  1 1 (  74 recursion calls )\n",
      "Calculate scheduling: line, station :  1 0 (  75 recursion calls )\n",
      "Calculate scheduling: line, station :  2 0 (  76 recursion calls )\n",
      "Calculate scheduling: line, station :  2 1 (  77 recursion calls )\n",
      "Calculate scheduling: line, station :  1 0 (  78 recursion calls )\n",
      "Calculate scheduling: line, station :  2 0 (  79 recursion calls )\n",
      "Calculate scheduling: line, station :  2 3 (  80 recursion calls )\n",
      "Calculate scheduling: line, station :  1 2 (  81 recursion calls )\n",
      "Calculate scheduling: line, station :  1 1 (  82 recursion calls )\n",
      "Calculate scheduling: line, station :  1 0 (  83 recursion calls )\n",
      "Calculate scheduling: line, station :  2 0 (  84 recursion calls )\n",
      "Calculate scheduling: line, station :  2 1 (  85 recursion calls )\n",
      "Calculate scheduling: line, station :  1 0 (  86 recursion calls )\n",
      "Calculate scheduling: line, station :  2 0 (  87 recursion calls )\n",
      "Calculate scheduling: line, station :  2 2 (  88 recursion calls )\n",
      "Calculate scheduling: line, station :  1 1 (  89 recursion calls )\n",
      "Calculate scheduling: line, station :  1 0 (  90 recursion calls )\n",
      "Calculate scheduling: line, station :  2 0 (  91 recursion calls )\n",
      "Calculate scheduling: line, station :  2 1 (  92 recursion calls )\n",
      "Calculate scheduling: line, station :  1 0 (  93 recursion calls )\n",
      "Calculate scheduling: line, station :  2 0 (  94 recursion calls )\n",
      "Calculate scheduling: line, station :  2 4 (  95 recursion calls )\n",
      "Calculate scheduling: line, station :  1 3 (  96 recursion calls )\n",
      "Calculate scheduling: line, station :  1 2 (  97 recursion calls )\n",
      "Calculate scheduling: line, station :  1 1 (  98 recursion calls )\n",
      "Calculate scheduling: line, station :  1 0 (  99 recursion calls )\n",
      "Calculate scheduling: line, station :  2 0 (  100 recursion calls )\n",
      "Calculate scheduling: line, station :  2 1 (  101 recursion calls )\n",
      "Calculate scheduling: line, station :  1 0 (  102 recursion calls )\n",
      "Calculate scheduling: line, station :  2 0 (  103 recursion calls )\n",
      "Calculate scheduling: line, station :  2 2 (  104 recursion calls )\n",
      "Calculate scheduling: line, station :  1 1 (  105 recursion calls )\n",
      "Calculate scheduling: line, station :  1 0 (  106 recursion calls )\n",
      "Calculate scheduling: line, station :  2 0 (  107 recursion calls )\n",
      "Calculate scheduling: line, station :  2 1 (  108 recursion calls )\n",
      "Calculate scheduling: line, station :  1 0 (  109 recursion calls )\n",
      "Calculate scheduling: line, station :  2 0 (  110 recursion calls )\n",
      "Calculate scheduling: line, station :  2 3 (  111 recursion calls )\n",
      "Calculate scheduling: line, station :  1 2 (  112 recursion calls )\n",
      "Calculate scheduling: line, station :  1 1 (  113 recursion calls )\n",
      "Calculate scheduling: line, station :  1 0 (  114 recursion calls )\n",
      "Calculate scheduling: line, station :  2 0 (  115 recursion calls )\n",
      "Calculate scheduling: line, station :  2 1 (  116 recursion calls )\n",
      "Calculate scheduling: line, station :  1 0 (  117 recursion calls )\n",
      "Calculate scheduling: line, station :  2 0 (  118 recursion calls )\n",
      "Calculate scheduling: line, station :  2 2 (  119 recursion calls )\n",
      "Calculate scheduling: line, station :  1 1 (  120 recursion calls )\n",
      "Calculate scheduling: line, station :  1 0 (  121 recursion calls )\n",
      "Calculate scheduling: line, station :  2 0 (  122 recursion calls )\n",
      "Calculate scheduling: line, station :  2 1 (  123 recursion calls )\n",
      "Calculate scheduling: line, station :  1 0 (  124 recursion calls )\n",
      "Calculate scheduling: line, station :  2 0 (  125 recursion calls )\n",
      "Fastest production time :  38\n"
     ]
    }
   ],
   "source": [
    "lines = AsseblyLines()\n",
    "time = lines.startScheduling()\n",
    "print(\"Fastest production time : \", time)"
   ]
  },
  {
   "cell_type": "code",
   "execution_count": 42,
   "metadata": {
    "collapsed": true
   },
   "outputs": [],
   "source": [
    "#DP\n",
    "class AsseblyLines:\n",
    "    timeStation = [[7, 9, 3, 4, 8, 4], [8, 5, 6, 4, 5, 7]] #라인 상태에서의 시간\n",
    "    timeBelt = [[2, 2, 3, 1, 3, 4, 3], [4, 2, 1, 2, 2, 1, 2]] #라인 바꾸는 데 드는 시간\n",
    "\n",
    "    timeScheduling = [list(range(6)), list(range(6))] #시간 Memoization\n",
    "    stationTracing = [list(range(6)), list(range(6))] #상태 Memoization\n",
    "    \n",
    "    def startSchedulingDP(self):\n",
    "        numStation = len(self.timeStation[0]) #생산라인 상태 수\n",
    "        self.timeScheduling[0][0] = self.timeStation[0][0] + self.timeBelt[0][0] #라인1의 첫 번째 상태\n",
    "        self.timeScheduling[1][0] = self.timeStation[1][0] + self.timeBelt[1][0] #라인2의 첫 번째 상태\n",
    "        \n",
    "        for i in range(1, numStation): #DP는 Bottom-Up 방식. 첫 상태에서 부터 계산을 해 나가면서 최선의 수를 찾는다.\n",
    "            if self.timeScheduling[0][i-1] > self.timeScheduling[1][i-1] + self.timeBelt[1][i]: #라인 1의 현재 상태가 라인2에서 바꿔서 온 시간보다 크다면\n",
    "                self.timeScheduling[0][i] = self.timeStation[0][i] + self.timeScheduling[1][i-1] + self.timeBelt[1][i] #시간 Memoization에 라인을 바꾸면서 드는 시간 비용을 저장한다.\n",
    "                self.stationTracing[0][i] = 1 #상태 Memoization에 바꾼 상태를 저장한다.\n",
    "            else: #라인 1을 그대로 유지하는 것이 라인2에서 바꾸는 것보다 시간 비용이 적다면\n",
    "                self.timeScheduling[0][i] = self.timeStation[0][i] + self.timeScheduling[0][i-1] #시간 Memoization에 현재 라인을 유지하는데 드는 시간 비용을 저장한다.\n",
    "                self.stationTracing[0][i] = 0 #상태 Memoization에 현재 라인 상태를 저장한다.\n",
    "                \n",
    "            if self.timeScheduling[1][i-1] > self.timeScheduling[0][i-1] + self.timeBelt[0][i]: #라인 2의 현재 상태가 라인1에서 바꿔서 온 시간보다 크다면\n",
    "                self.timeScheduling[1][i] = self.timeStation[1][i] + self.timeScheduling[0][i-1] + self.timeBelt[0][i] #시간 Memoization에 라인을 바꾸면서 드는 시간 비용을 저장한다.\n",
    "                self.stationTracing[1][i] = 0 #상태 Memoization에 바꾼 상태를 저장한다.\n",
    "            else: #라인 2를 그대로 유지하는 것이 라인1에서 바꾸는 것보다 시간 비용이 적다면\n",
    "                self.timeScheduling[1][i] = self.timeStation[1][i] + self.timeScheduling[1][i-1] #시간 Memoization에 현재 라인을 유지하는데 드는 시간 비용을 저장한다.\n",
    "                self.stationTracing[1][i] = 1 #상태 Memoization에 현재 라인 상태를 저장한다.\n",
    "        \n",
    "        costLine1 = self.timeScheduling[0][numStation-1] + self.timeBelt[0][numStation] #라인 1의 마지막 상태를 더해 최종 비용 계산\n",
    "        costLine2 = self.timeScheduling[1][numStation-1] + self.timeBelt[1][numStation] #라인 2의 마지막 상태를 더해 최종 비용 계산\n",
    "        if costLine1 > costLine2: #시간 비용이 적은 라인을 반환\n",
    "            return costLine2, 1\n",
    "        else:\n",
    "            return costLine1, 0\n",
    "        \n",
    "    def printTracing(self, lineTracing): #최적 라인 상태 출력\n",
    "        numStation = len(self.timeStation[0])\n",
    "        print(\"Line : \", lineTracing, \", Station : \", numStation)\n",
    "        for i in range(numStation-1, 0, -1):\n",
    "            lineTracing = self.stationTracing[lineTracing][i]\n",
    "            print(\"Line : \", lineTracing, \", Station : \", i)\n",
    "            \n",
    "        print(self.timeScheduling)\n",
    "        print(self.stationTracing)"
   ]
  },
  {
   "cell_type": "code",
   "execution_count": 43,
   "metadata": {
    "collapsed": false
   },
   "outputs": [
    {
     "name": "stdout",
     "output_type": "stream",
     "text": [
      "Fastest production time :  38\n",
      "Line :  0 , Station :  6\n",
      "Line :  1 , Station :  5\n",
      "Line :  1 , Station :  4\n",
      "Line :  0 , Station :  3\n",
      "Line :  1 , Station :  2\n",
      "Line :  0 , Station :  1\n",
      "[[9, 18, 20, 24, 32, 35], [12, 16, 22, 25, 30, 37]]\n",
      "[[0, 0, 1, 0, 0, 1], [0, 0, 1, 0, 1, 1]]\n"
     ]
    }
   ],
   "source": [
    "lines = AsseblyLines()\n",
    "time, lineTracing = lines.startSchedulingDP()\n",
    "print(\"Fastest production time : \", time)\n",
    "lines.printTracing(lineTracing)"
   ]
  },
  {
   "cell_type": "code",
   "execution_count": null,
   "metadata": {
    "collapsed": true
   },
   "outputs": [],
   "source": []
  }
 ],
 "metadata": {
  "kernelspec": {
   "display_name": "Python 3",
   "language": "python",
   "name": "python3"
  },
  "language_info": {
   "codemirror_mode": {
    "name": "ipython",
    "version": 3
   },
   "file_extension": ".py",
   "mimetype": "text/x-python",
   "name": "python",
   "nbconvert_exporter": "python",
   "pygments_lexer": "ipython3",
   "version": "3.6.0"
  }
 },
 "nbformat": 4,
 "nbformat_minor": 2
}
