{
 "cells": [
  {
   "cell_type": "markdown",
   "metadata": {},
   "source": [
    "# 2017_IE362\n",
    "# Week 12\n",
    "----"
   ]
  },
  {
   "cell_type": "markdown",
   "metadata": {},
   "source": [
    "### Limit of Divide and Conquer\n",
    "\n",
    "Key, Value. 효율성을 위해. 예를 들어 한국인 5000만명을 모두 저장한다고 할 때, Key값으로 주민등록번호를 사용하게 되면, 800000-1000000로 필요이상(0~5천만)의 수보다 훨씬 불필요한 부분이 많이 생긴다. Key를 어떤 funcion에 넣어 특정 고유의 값으로 저장해 공간을 절약하도록 하는 것이 Hash. (완전히 Compact한 것이 아니라 어느정도의 여유는 있으면서 이전보다는 공간을 절약)"
   ]
  },
  {
   "cell_type": "markdown",
   "metadata": {},
   "source": [
    "### Hash Table\n",
    "\n",
    "Hash Table : Key와 Value의 Pair를 저장하고 있는 큰 테이블. Hash Function을 가지고 있다. function(Key) = index(효율성을 높인 unique key)    \n",
    "![week12_1.png](images/week12_1.png)"
   ]
  },
  {
   "attachments": {},
   "cell_type": "markdown",
   "metadata": {},
   "source": [
    "### Hash Function\n",
    "\n",
    "Value의 Key를 Array의 Index로 변환    \n",
    "![week12_2.png](images/week12_2.png)       \n",
    "bijective가 가장 이상적. 충돌이 적기 때문이다."
   ]
  },
  {
   "attachments": {},
   "cell_type": "markdown",
   "metadata": {},
   "source": [
    "### Examples of Hash Function\n",
    "\n",
    "- Modulo based hash function : 수를 나눠서 hash index를 만들어 내는 함수. uniform-based가 잘 되지 않는다.\n",
    "- Square based hash function : Modulo based hash function의 문제를 줄이기 위해 만들어졌다.\n",
    "- Digit analysis based hash function : 체크섬(Checksum)"
   ]
  },
  {
   "attachments": {},
   "cell_type": "markdown",
   "metadata": {},
   "source": [
    "### Collision Resolution of Hashing\n",
    "\n",
    "Collision : Key는 많고, Index가 적어, 하나의 Index가 여러 Key가 연결되어 있는 상태\n",
    "\n",
    "Closed addressing : Index를 변화시키지 않고, 링크드 리스트를 만들어 헤드에 index 값을 붙여나가는 방식, 최악의 경우, 한 인덱스에 모든 값이 연결.    \n",
    "![week12_3.png](images/week12_3.png)  \n",
    "\n",
    "Open addressing : prubing. index를 바꿔준다.(먼 곳으로 바꿔주는 것이 일반적. index영역이 자주 겹치는 것을 막기 위해)"
   ]
  },
  {
   "attachments": {},
   "cell_type": "markdown",
   "metadata": {},
   "source": [
    "### Deletion in Hash Table\n",
    "\n",
    "Lazy deletion : HDD처럼 바로 삭제하는 것이 아니라, 실제 값이 채워질 때 삭제"
   ]
  },
  {
   "cell_type": "markdown",
   "metadata": {},
   "source": [
    "### Managing the Size of Hash Table"
   ]
  },
  {
   "cell_type": "markdown",
   "metadata": {},
   "source": [
    "![week12_4.png](images/week12_4.png)"
   ]
  },
  {
   "cell_type": "code",
   "execution_count": null,
   "metadata": {
    "collapsed": true
   },
   "outputs": [],
   "source": []
  }
 ],
 "metadata": {
  "kernelspec": {
   "display_name": "Python 3",
   "language": "python",
   "name": "python3"
  },
  "language_info": {
   "codemirror_mode": {
    "name": "ipython",
    "version": 3
   },
   "file_extension": ".py",
   "mimetype": "text/x-python",
   "name": "python",
   "nbconvert_exporter": "python",
   "pygments_lexer": "ipython3",
   "version": "3.6.1"
  }
 },
 "nbformat": 4,
 "nbformat_minor": 2
}
