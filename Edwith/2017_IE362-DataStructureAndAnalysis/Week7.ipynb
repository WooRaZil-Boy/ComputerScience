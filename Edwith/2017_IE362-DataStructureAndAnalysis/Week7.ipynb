{
 "cells": [
  {
   "cell_type": "markdown",
   "metadata": {},
   "source": [
    "# 2017_IE362\n",
    "# Week 7\n",
    "----"
   ]
  },
  {
   "cell_type": "markdown",
   "metadata": {},
   "source": [
    "### Bubble Sort Algorithm"
   ]
  },
  {
   "cell_type": "code",
   "execution_count": 1,
   "metadata": {},
   "outputs": [
    {
     "name": "stdout",
     "output_type": "stream",
     "text": [
      "[5, 0, 2, 9, 7, 8, 6, 3, 1, 4]\n",
      "[9, 8, 7, 6, 5, 4, 3, 2, 1, 0]\n"
     ]
    }
   ],
   "source": [
    "import random\n",
    "\n",
    "N = 10\n",
    "listNumbers = list(range(N)) \n",
    "random.shuffle(listNumbers)\n",
    "\n",
    "print(listNumbers)\n",
    "\n",
    "def performSelectionSort(listNumbers):\n",
    "    for i1 in range(0, N):\n",
    "        for i2 in range(i1+1, N):\n",
    "            if listNumbers[i1] < listNumbers[i2]:\n",
    "                listNumbers[i1], listNumbers[i2] = listNumbers[i2], listNumbers[i1]\n",
    "                #swap\n",
    "    return listNumbers\n",
    "\n",
    "print(performSelectionSort(listNumbers))"
   ]
  },
  {
   "cell_type": "markdown",
   "metadata": {},
   "source": [
    "### Definition of Algorithm Analysis and Examples\n",
    "\n",
    "![week7_1.png](images/week7_1.png)     \n",
    "![week7_2.png](images/week7_2.png)\n",
    "\n",
    "$ {n(n-1) \\over 2} = {1 \\over 2}n^2 - {1 \\over 2}n$"
   ]
  },
  {
   "attachments": {},
   "cell_type": "markdown",
   "metadata": {},
   "source": [
    "### Big-Oh Notation\n",
    "\n",
    "Big O : 최악의 상황에 대해 가정. 계수를 버리고 최고차항으로 계산\n",
    "\n",
    "- f(N) = O(g(N))가 만족해야 한다.\n",
    "- $f(N) ≦ c g(N)$ when $N ≧ n_0$ 이것이 만족되면 $f(N) = O(g(N))$\n",
    "- 위의 식이 성립하면 f(N)의 Growth Rate는 g(N)보다 작거나 같다\n",
    "- 위의 식이 성립하면 g(N)은 f(N)의 최대치이다.\n",
    "\n",
    "ex) 위의 버블 정렬에서     \n",
    "$f(n) = O(n^2)$      \n",
    "$f(n) = {3 \\over 2} n^2 - {3 \\over 2}n$   \n",
    "따라서 ${3 \\over 2} n^2 - {3 \\over 2}n \\le cn^2$    \n",
    "$c$와 $n_0$가 만족되는 경우를 찾는다. 여기서 $c$와 $n_0$는 positive constants\n",
    "\n",
    "정리하면 $(c - {3\\over2})n^2 + {3 \\over 2}n \\ge 0$    \n",
    "$c$를 ${5\\over2}$로 가정하면 $n^2 + {3\\over2}n \\ge 0$    \n",
    "$n^2 + {3\\over2}n + \\alpha - \\alpha \\ge 0$ 여기서 $\\alpha$는 임의의 값    \n",
    "$n^2 + {3\\over2}n + {9\\over16} - {9\\over16} \\ge 0$    \n",
    "$(n+{3\\over4})^2 \\ge {9 \\over 16}$ $n$이 positive constants 에서 이 식은 항상 성립"
   ]
  },
  {
   "attachments": {},
   "cell_type": "markdown",
   "metadata": {},
   "source": [
    "### Examples & Rules of Big-Oh Notation\n",
    "\n",
    "If $_T1(N) = O(f(N))$ and $T_2(N) = O(g(N))$, then\n",
    "- $T_1(N) + T_2(N) = max(O(f(N)),  O(g(N)))$\n",
    "    - $max(O(N), O(N^2)) = O(N^2)$ 덧셈의 경우 큰 차수만\n",
    "- $T_1(N) * T_2(N) = O(f(N) * g(N))$\n",
    "    - $O(N) * O(\\log N) = O(N\\log N)$ 곱셈의 경우 곱해서    \n",
    "\n",
    "![week7_3.png](images/week7_3.png)\n"
   ]
  }
 ],
 "metadata": {
  "kernelspec": {
   "display_name": "Python 3",
   "language": "python",
   "name": "python3"
  },
  "language_info": {
   "codemirror_mode": {
    "name": "ipython",
    "version": 3
   },
   "file_extension": ".py",
   "mimetype": "text/x-python",
   "name": "python",
   "nbconvert_exporter": "python",
   "pygments_lexer": "ipython3",
   "version": "3.6.1"
  }
 },
 "nbformat": 4,
 "nbformat_minor": 2
}
