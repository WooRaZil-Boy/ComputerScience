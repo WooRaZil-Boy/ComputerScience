{
 "cells": [
  {
   "cell_type": "markdown",
   "metadata": {},
   "source": [
    "# 2017_IE362\n",
    "# Week 11\n",
    "----"
   ]
  },
  {
   "attachments": {},
   "cell_type": "markdown",
   "metadata": {},
   "source": [
    "### O(N^2) Sorting\n",
    "\n",
    "구현하기 쉬우나 비효율적.\n",
    "\n",
    "- Insertion Sort\n",
    "- Selection Sort\n",
    "- Bubble Sort"
   ]
  },
  {
   "cell_type": "code",
   "execution_count": 4,
   "metadata": {},
   "outputs": [
    {
     "name": "stdout",
     "output_type": "stream",
     "text": [
      "[7, 3, 1, 2, 0, 5, 4, 8, 6, 9]\n",
      "[9, 8, 7, 6, 5, 4, 3, 2, 1, 0]\n"
     ]
    }
   ],
   "source": [
    "import random\n",
    "\n",
    "N = 10\n",
    "lstNumbers = list(range(N))\n",
    "random.shuffle(lstNumbers)\n",
    "\n",
    "print(lstNumbers)\n",
    "\n",
    "def performSelectionSort(lstNumbers):\n",
    "    for itr1 in range(0, N): #루프 하나를 돌 때마다 맨 첫 번째 부터 하나씩 위치를 제대로 찾게 되면서 정렬된다.(max가 항상 앞으로 가게 된다.)\n",
    "        for itr2 in range(itr1+1, N):\n",
    "            if lstNumbers[itr1] < lstNumbers[itr2]: #뒤의 요소가 더 크면\n",
    "                lstNumbers[itr1], lstNumbers[itr2] = lstNumbers[itr2], lstNumbers[itr1] #swap\n",
    "                \n",
    "    return lstNumbers\n",
    "\n",
    "print(performSelectionSort(lstNumbers)) "
   ]
  },
  {
   "cell_type": "markdown",
   "metadata": {},
   "source": [
    "Selection Sort는 outer loop는 n-1번 반복, inner loop는 n(n-1)/2 만큼 반복(10이면 9 + 8 + 7 + ... + 1)"
   ]
  },
  {
   "attachments": {},
   "cell_type": "markdown",
   "metadata": {},
   "source": [
    "### Merge Sort\n",
    "\n",
    "Divide and conquer 활용. worst 케이스인 경우에는 $O(N^2)$과 같다. 하지만 평균적으로 $O(NlogN)$\n",
    "\n",
    "- Quick Sort\n",
    "- Heap Sort\n",
    "- Merge Sort\n",
    "\n",
    "![week11_1.png](images/week11_1.png)"
   ]
  },
  {
   "cell_type": "code",
   "execution_count": 8,
   "metadata": {},
   "outputs": [
    {
     "name": "stdout",
     "output_type": "stream",
     "text": [
      "[25, 65, 57, 1, 12, 34, 0, 33, 51, 76]\n",
      "[0, 1, 12, 25, 33, 34, 51, 57, 65, 76]\n"
     ]
    }
   ],
   "source": [
    "import random\n",
    "\n",
    "def performMergeSort(lstElementToSort):\n",
    "    if len(lstElementToSort) == 1: #하나만 남아있는 경우 더 쪼갤 수 없으므로 return\n",
    "        return lstElementToSort\n",
    "    \n",
    "    lstSubElementToSort1 = []\n",
    "    lstSubElementToSort2 = []\n",
    "    \n",
    "    for itr in range(len(lstElementToSort)):\n",
    "        if len(lstElementToSort)/2 > itr:\n",
    "            lstSubElementToSort1.append(lstElementToSort[itr]) #Decomposition\n",
    "        else:\n",
    "            lstSubElementToSort2.append(lstElementToSort[itr]) #Decomposision\n",
    "            \n",
    "    lstSubElementToSort1 = performMergeSort(lstSubElementToSort1) #Recursion\n",
    "    lstSubElementToSort2 = performMergeSort(lstSubElementToSort2) #Recursion\n",
    "    \n",
    "    idxCount1 = 0\n",
    "    idxCount2 = 0\n",
    "    \n",
    "    #Aggregation\n",
    "    for itr in range(len(lstElementToSort)):\n",
    "        if idxCount1 == len(lstSubElementToSort1): #첫 번째 리스트의 요소가 모두 이전에 사용 되었으면\n",
    "            lstElementToSort[itr] = lstSubElementToSort2[idxCount2] #두 번째 리스트를 차례대로 뒤에 붙이기만 하면 된다.\n",
    "            idxCount2 = idxCount2 + 1\n",
    "        elif idxCount2 == len(lstSubElementToSort2): #두 번째 리스트의 요소가 모두 이전에 사용 되었으면\n",
    "            lstElementToSort[itr] = lstSubElementToSort1[idxCount1] #첫 번째 리스트를 차례대로 뒤에 붙이기만 하면 된다.\n",
    "            idxCount1 = idxCount1 + 1\n",
    "        elif lstSubElementToSort1[idxCount1] > lstSubElementToSort2[idxCount2]: #비교 루틴. 앞 리스트의 숫자가 더 큰 경우\n",
    "            lstElementToSort[itr] = lstSubElementToSort2[idxCount2]\n",
    "            idxCount2 = idxCount2 + 1\n",
    "        else:\n",
    "            lstElementToSort[itr] = lstSubElementToSort1[idxCount1] #비교 루틴. 뒤 리스트의 숫자가 더 큰 경우\n",
    "            idxCount1 = idxCount1 + 1\n",
    "    return lstElementToSort\n",
    "\n",
    "lstRandom = []\n",
    "for itr in range(0, 10):\n",
    "    lstRandom.append(random.randrange(0, 100))\n",
    "print(lstRandom)\n",
    "lstRandom = performMergeSort(lstRandom)\n",
    "print(lstRandom)"
   ]
  },
  {
   "cell_type": "markdown",
   "metadata": {},
   "source": [
    "### Heap Sort\n",
    "\n",
    "우선순위 큐 활용. 바이너리 힙 사용. $O(NlogN)$"
   ]
  },
  {
   "cell_type": "markdown",
   "metadata": {},
   "source": [
    "### Quick Sort\n",
    "\n",
    "Pivot(기준점)을 정해서 Pivot보다 큰 값, 작은 값으로 Divide and conquer. worst case는 selection Sort와 같은 $ O(N^2)$"
   ]
  },
  {
   "cell_type": "code",
   "execution_count": 12,
   "metadata": {},
   "outputs": [
    {
     "name": "stdout",
     "output_type": "stream",
     "text": [
      "[5, 4, 3, 9, 1, 0, 2, 8, 6, 7]\n",
      "[0, 1, 2, 3, 4, 5, 6, 7, 8, 9]\n"
     ]
    }
   ],
   "source": [
    "import random\n",
    "\n",
    "N = 10\n",
    "lstNumbers = list(range(N))\n",
    "random.shuffle(lstNumbers)\n",
    "\n",
    "print(lstNumbers)\n",
    "\n",
    "def performQuickSort(seq, pivot = 0): #피봇 인덱스를 0\n",
    "    if len(seq) <= 1: #escape rutine\n",
    "        return seq\n",
    "    \n",
    "    pivotValue = seq[pivot]\n",
    "    less = []\n",
    "    greater = []\n",
    "    \n",
    "    #divide and conquer\n",
    "    for itr in range(len(seq)):\n",
    "        if itr == pivot:\n",
    "            continue\n",
    "        elif seq[itr] > pivotValue:\n",
    "            greater.append(seq[itr])\n",
    "        elif seq[itr] <= pivotValue:\n",
    "            less.append(seq[itr])\n",
    "    return performQuickSort(less)+[pivotValue]+performQuickSort(greater) #recursive calls\n",
    "    #less는 피봇값 보다 항상 작은 것이 보장 되고, greater는 피봇값보다 항상 큰 것이 보장되므로 이런 식으로 붙여주면 된다.\n",
    "\n",
    "print(performQuickSort(lstNumbers))"
   ]
  },
  {
   "attachments": {},
   "cell_type": "markdown",
   "metadata": {},
   "source": [
    "### Counting Sort\n",
    "\n",
    "비교하지 않으면서 sort. $O(N)$. $O(N)$보다 작은 Big-O은 존재하지 않는다. 하지만 전제조건을 만족해야 한다.\n",
    "\n",
    "- Radix Sort\n",
    "- Count Sort\n",
    "\n",
    "\n",
    "Assumption : The sequence contains integers ranging from 0 to K    \n",
    "value가 바로 index가 된다. (index별로 count하고 순서대로 적어준다.)"
   ]
  },
  {
   "cell_type": "code",
   "execution_count": 18,
   "metadata": {},
   "outputs": [
    {
     "name": "stdout",
     "output_type": "stream",
     "text": [
      "[5, 6, 0, 1, 3, 8, 7, 4, 2, 9]\n",
      "[0, 1, 2, 3, 4, 5, 6, 7, 8, 9]\n"
     ]
    }
   ],
   "source": [
    "import random\n",
    "\n",
    "N = 10\n",
    "lstNumbers = list(range(N))\n",
    "random.shuffle(lstNumbers)\n",
    "\n",
    "print(lstNumbers)\n",
    "\n",
    "def performCountingSort(seq):\n",
    "    max = -9999\n",
    "    min = 9999\n",
    "    \n",
    "    for itr in range(len(seq)):\n",
    "        if seq[itr] > max: #max값 알아내기\n",
    "            max = seq[itr]\n",
    "        if seq[itr] < min: #min값 알아내기\n",
    "            min = seq[itr]\n",
    "    counting = list(range(max-min+1)) #counting 저장소\n",
    "    \n",
    "    for itr in range(len(counting)): #counting 초기화\n",
    "        counting[itr] = 0\n",
    "    for itr in range(len(seq)):\n",
    "        value = seq[itr]\n",
    "        counting[value-min] = counting[value-min] + 1 #0부터 하는 것이 아니라 min값부터 시작하는 것으로 한다.\n",
    "    cnt = 0\n",
    "    for itr1 in range(max-min+1):\n",
    "        for itr2 in range(counting[itr1]):\n",
    "            seq[cnt] = itr1 + min #위에서 0이 아닌 min값 부터 했으므로 min을 더해 준다\n",
    "            cnt = cnt + 1\n",
    "    return seq\n",
    "\n",
    "print(performCountingSort(lstNumbers))"
   ]
  },
  {
   "attachments": {},
   "cell_type": "markdown",
   "metadata": {},
   "source": [
    "### Redix Sort\n",
    "\n",
    "Assumption : The sequence contains integers\n",
    "\n",
    "digit간의 숫자 비교로 sorting할 수 있다.(자릿수를 비교해서 sort)    \n",
    "각 자리수 별로 0 ~ 9 사이의 버킷에 저장했다가 다시 꺼낸다.\n",
    "\n",
    "![week11_2.png](images/week11_2.png)"
   ]
  },
  {
   "cell_type": "code",
   "execution_count": 21,
   "metadata": {},
   "outputs": [
    {
     "name": "stdout",
     "output_type": "stream",
     "text": [
      "[2, 5, 0, 3, 6, 8, 9, 1, 7, 4]\n",
      "[0, 1, 2, 3, 4, 5, 6, 7, 8, 9]\n"
     ]
    }
   ],
   "source": [
    "import random\n",
    "import math\n",
    "\n",
    "N = 10\n",
    "lstNumbers = list(range(N))\n",
    "random.shuffle(lstNumbers)\n",
    "\n",
    "print(lstNumbers)\n",
    "\n",
    "def performRadixSort(seq):\n",
    "    max = -999999\n",
    "    \n",
    "    for itr in range(len(seq)):\n",
    "        if seq[itr] > max:\n",
    "            max = seq[itr]\n",
    "    D = int(math.log10(max)) #자릿수를 구한다. ex) 30000의 경우 : log3 + 4log10. 따라서 Int를 씌우면 버림 되어 자릿수 4가 된다.\n",
    "    \n",
    "    for itr1 in range(0, D+1):\n",
    "        buckets = []\n",
    "        \n",
    "        for itr2 in range(0, 10):\n",
    "            buckets.append([])\n",
    "        for itr2 in range(len(seq)):\n",
    "            digit = int(seq[itr2] / math.pow(10, itr1)) % 10 #10의 몇승의 자리 수 인지 알아내는 수식\n",
    "            buckets[digit].append(seq[itr2])\n",
    "        cnt = 0\n",
    "        for itr2 in range(0, 10): #버킷 비우고 다음 수로\n",
    "            for itr3 in range(len(buckets[itr2])):\n",
    "                seq[cnt] = buckets[itr2][itr3]\n",
    "                cnt = cnt + 1\n",
    "    return seq\n",
    "\n",
    "print(performRadixSort(lstNumbers))"
   ]
  },
  {
   "cell_type": "markdown",
   "metadata": {},
   "source": [
    "digit의 증감은 매우 작기 때문에 효율적이다."
   ]
  }
 ],
 "metadata": {
  "kernelspec": {
   "display_name": "Python 3",
   "language": "python",
   "name": "python3"
  },
  "language_info": {
   "codemirror_mode": {
    "name": "ipython",
    "version": 3
   },
   "file_extension": ".py",
   "mimetype": "text/x-python",
   "name": "python",
   "nbconvert_exporter": "python",
   "pygments_lexer": "ipython3",
   "version": "3.6.1"
  }
 },
 "nbformat": 4,
 "nbformat_minor": 2
}
