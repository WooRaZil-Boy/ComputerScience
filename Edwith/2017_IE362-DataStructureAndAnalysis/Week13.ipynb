{
 "cells": [
  {
   "cell_type": "markdown",
   "metadata": {},
   "source": [
    "# 2017_IE362\n",
    "# Week 13\n",
    "----"
   ]
  },
  {
   "cell_type": "markdown",
   "metadata": {},
   "source": [
    "### Graph\n",
    "\n",
    "Linked list가 마음대로 연결되어 있는 형태\n",
    "\n",
    "그래프는 Vertice와 edge의 집합\n",
    "- vertice (node)\n",
    "- edge(arc)\n",
    "\n",
    "![week13_1.png](images/week13_1.png)\n",
    "\n",
    "DAG는 트리로 변환이 용이해 자주 사용한다."
   ]
  },
  {
   "cell_type": "markdown",
   "metadata": {},
   "source": [
    "### Representation of Graph\n",
    "\n",
    "![week13_2.png](images/week13_2.png)  \n",
    "\n",
    "하지만 위에서 처럼 저장하면 낭비하는 부분이 너무 많다. linked list로 저장한다.\n",
    "\n",
    "![week13_3.png](images/week13_3.png)     \n",
    "하지만 이 방법도 linked list 길어질 경우 효율적이지 못하므로, linked list를 Tree등으로 쓰기도 한다.\n"
   ]
  },
  {
   "cell_type": "markdown",
   "metadata": {},
   "source": [
    "### Traversing Problem - DFS and BFS\n",
    "\n",
    "- DFS : depth first search\n",
    "    - Stack과 Recusion 활용\n",
    "- BFS : breadth first search\n",
    "    - Queue 활용"
   ]
  },
  {
   "cell_type": "markdown",
   "metadata": {},
   "source": [
    "### Shortest Path Problem - Dijkstra's Algorithm (1)\n",
    "\n",
    "경로 찾기. 친구 찾기 등.    \n",
    "어디서 시작해서 어디로 가는가."
   ]
  },
  {
   "cell_type": "markdown",
   "metadata": {},
   "source": [
    "### Shortest Path Problem - Dijkstra's Algorithm (2)\n",
    "\n",
    "Dynamic Programming : 작은문제에서 큰 문제로 풀어나가는 것. - Start에서 End까지 어떤 루트로 가야 빠른가.    \n",
    "Dijkstra's Algorithm : Dynamic Programming을 이용.\n",
    "\n",
    "![week13_4.png](images/week13_4.png)   "
   ]
  },
  {
   "cell_type": "markdown",
   "metadata": {},
   "source": [
    "### Minimum Spanning Tree Problem - Prim's Algorithm"
   ]
  }
 ],
 "metadata": {
  "kernelspec": {
   "display_name": "Python 3",
   "language": "python",
   "name": "python3"
  },
  "language_info": {
   "codemirror_mode": {
    "name": "ipython",
    "version": 3
   },
   "file_extension": ".py",
   "mimetype": "text/x-python",
   "name": "python",
   "nbconvert_exporter": "python",
   "pygments_lexer": "ipython3",
   "version": "3.6.1"
  }
 },
 "nbformat": 4,
 "nbformat_minor": 2
}
