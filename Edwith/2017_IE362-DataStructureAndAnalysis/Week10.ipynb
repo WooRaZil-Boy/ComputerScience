{
 "cells": [
  {
   "cell_type": "markdown",
   "metadata": {},
   "source": [
    "# 2017_IE362\n",
    "# Week 10\n",
    "----"
   ]
  },
  {
   "cell_type": "markdown",
   "metadata": {},
   "source": [
    "### Difficult Problem\n",
    "\n",
    "\"아는 언어로\"가 아닌 \"최적화된 언어\"로. 문제의 난이도 뿐 아니라, 시간이 문제가 될 수 있다.    \n",
    "Structure가 없는 경우 어려운 문제가 된다."
   ]
  },
  {
   "attachments": {},
   "cell_type": "markdown",
   "metadata": {},
   "source": [
    "### Genetic Algorithm\n",
    "\n",
    "- Algorithm : 방법대로 따라가면 문제가 풀린다. (보장을 해 줌)    \n",
    "- Heuristic : 방법대로 따라가면 문제가 잘 풀릴 것이다. (보장을 해 주지 않음)    \n",
    "\n",
    "Survival of the fittest by Herbert Spencer (적자 생존)    \n",
    "Natural selection by Charles Darwin (자연 선택)    \n",
    "\n",
    "Genotype : 개체의 표현형(ex. 인간의 유전자형. 위치 value에서 경도, 위도)\n",
    "Phenotype : 개체의 특성(ex. 부자라면 얼굴이 비슷할 것이다. 유사한 위치라면 높이도 비슷할 것이다.)"
   ]
  },
  {
   "attachments": {},
   "cell_type": "markdown",
   "metadata": {},
   "source": [
    "### Traveling Salesman Problem\n",
    "\n",
    "- Genotype : 도시    \n",
    "- Phenotype : 거리 혹은 비용    \n",
    "- 경우의 수는 도시 수의 팩토리얼   \n",
    "\n",
    "| Terminology  | Implication  |  Application in TSP | 비고  |\n",
    "|:-:|:-:|:-:|:-:|\n",
    "| A problem to solve  | A problem that is converted and solved by GA  | Traveling Salesman Problem  | 방문 판매 최적화  |\n",
    "|  Gene | A factor of a solution  | Seoul or Kwangju or Daejeon…  | 해결 요소(도시)  |\n",
    "|  Genotype |  A solution |  (Seoul, Kwangju, Daejeon…) |  해결책(도시 들의 순서) |\n",
    "| Encoding  | Representation method of a solution  | (1, 2, 3, …) when assuming Seoul is 1…  | 규칙. 각 도시들을 숫자로 인코딩  |\n",
    "| Phenotype  | Quality of a solution  |  Trip cost of (Seoul, Kwangju, Daejeon…) | 해결책의 가치. 거리 혹은 비용. optiomal value를 계산할 수 있어야 한다.  |\n",
    "| Population  | A set of solutions  |  (Seoul, Kwangju, Daejeon…)     (Kwangju, Seoul, Daejeon…)     (Daejeon, Kwangju, Seoul…)…|  해결책의 집합 |\n",
    "| Initialization  | Producing the initial set of solutions  | Randomly generating the population of     (Daejeon, Kwangju, Seoul…)…  | 최초 Population.  |\n",
    "| Selection  |  Selecting a prominent sub-set of solutions |  Solutions producing top K minimum trip costs | 최적의 해결책 찾기  |\n",
    "|  Offspring production | Producing a derived solutions from the selected sub-set  | Swapping the cities in the tuple or the vector  | 가장 좋은 것들을 모아 다시 섞는다  |\n",
    "|  Environment | The measurement for the evaluation of a solution  | Trip cost calculator  | 적자 생존이 나타나는 환경. evaluation 과정  |"
   ]
  },
  {
   "cell_type": "markdown",
   "metadata": {},
   "source": [
    "### Terminology and Structure of Genetic Algorithm\n",
    "\n",
    "솔루션을 계속 진화해 시켜 나가는 것 : Genentic Algorithm (사실 Algorithm이 아닌 Heuristic)"
   ]
  },
  {
   "cell_type": "code",
   "execution_count": 1,
   "metadata": {
    "collapsed": true
   },
   "outputs": [],
   "source": [
    "class GeneticAlgorithm :\n",
    "    def performEvolution(self, numIterations, numOffstrings):\n",
    "        population = self.createInitialPopulation() #최초의 population\n",
    "        \n",
    "        for itr in range(numIterations): #적절히 선택. 몇 번을 해야 최적이 나올 지는 알 수 없다.\n",
    "            offstring = {}\n",
    "            \n",
    "            for itr2 in range(numOffstrings): #시간이 진행될 수록 numOffstrings을 줄여준다.(해에 가까이 갈 수록 크게 뒤섞을 필요성이 줄어든다.)\n",
    "                p1, p2 = self.selectParents() #부모가 될 두 개의 해\n",
    "                offstring[itr1] = self.crossoverParents(p1, p2) #조합\n",
    "                offstring[itr2] = self.mutation(offstring[itr2]) #돌연변이\n",
    "                \n",
    "            self.substritutePopulation(population, offstring)\n",
    "            \n",
    "        mostFittest = self.findBestSolution(population)\n",
    "        \n",
    "        return mostFittest"
   ]
  },
  {
   "attachments": {},
   "cell_type": "markdown",
   "metadata": {},
   "source": [
    "### Encoding\n",
    "\n",
    "솔루션을 표현하는 규칙 (ex. 서울, 광주, 대전)    \n",
    "- K-ary coding : 각 도시들을 숫자로 표현\n",
    "    - 서울 : 0, 광주 : 1, 대전 : 2\n",
    "    - 루트 : (0, 1, 2) -> 012\n",
    "    - 알아보기 쉽다.\n",
    "- binary coding : 각 도시들을 2진수 숫자로 표현\n",
    "    - 서울 : 00, 광주 : 01, 대전 : 10\n",
    "    - 루트 : (00, 01, 10) -> 000110\n",
    "    - 조합과 돌연변이 시에 활용도가 높다.\n",
    "- 문제에 맞춰서 : position + K-ary coding. 문제별로 최적화\n",
    "    - 서울 : 0, 광주 : 1, 대전 : 2\n",
    "    - 루트 : (1, 2, 0) -> 120\n",
    "    - 하지만 루트에서 숫자의 의미는 각 도시에서 가는 도시들의 index를 나타낸다. 즉, (0->1(서울 -> 광주), 1->2(광주 -> 대전), 2->0(대전 -> 서울))을 타나낸 것이 120\n",
    "    - 이런식으로 나타내면 K-ary coding에 비해 가능한 경우의 수가 줄어들게 되므로((0, 1, 2)는 이 인코딩에서 불가능한 루트이다.), 더 빠르게 해를 찾을 수 있다."
   ]
  },
  {
   "attachments": {},
   "cell_type": "markdown",
   "metadata": {},
   "source": [
    "### Selection\n",
    "\n",
    "GeneticAlgorithm에서 가장 중요한 파트. 교배가 일어나는 단계    \n",
    "![week10_1.png](images/week10_1.png)"
   ]
  },
  {
   "cell_type": "markdown",
   "metadata": {},
   "source": [
    "### Crossover\n",
    "\n",
    "두 개의 해를 섞어서 자손 해를 만들어 낸다. 유효하지 않은 해가 나올 수도 있다. 바로 해결하거나, 뒤에 변이 등 다른 조합이 모두 끝난 후 해결하는 방법도 있다.\n",
    "\n",
    "![week10_2.png](images/week10_2.png)"
   ]
  },
  {
   "cell_type": "markdown",
   "metadata": {},
   "source": [
    "### Mutation\n",
    "\n",
    "돌연변이를 만들어 낸다."
   ]
  },
  {
   "attachments": {},
   "cell_type": "markdown",
   "metadata": {},
   "source": [
    "### Substitution and Execution\n",
    "\n",
    "feedback처럼 나온 해를 다시 population에 넣어준다.\n",
    "\n",
    "N = the size of population, or the number of solutions in our hands    \n",
    "K = the size of offspring, or the number of new solutions (자식)    \n",
    "\n",
    "K/N = generation gap\n",
    "- K/N -> 1\n",
    "    - 많은 수의 population이 교체 된다.\n",
    "    - generational GA\n",
    "    - Dynamic, but slow\n",
    "- K/N -> 1/N\n",
    "    - 하나의 해만 교체 된다.\n",
    "    - steady-state GA\n",
    "    - Steady, but fast\n",
    "    \n",
    "진화 초기에는 K/N -> 1을 목표로, 시간이 지나면서 안정화 되면 K/N -> 1/N를 목표로"
   ]
  }
 ],
 "metadata": {
  "kernelspec": {
   "display_name": "Python 3",
   "language": "python",
   "name": "python3"
  },
  "language_info": {
   "codemirror_mode": {
    "name": "ipython",
    "version": 3
   },
   "file_extension": ".py",
   "mimetype": "text/x-python",
   "name": "python",
   "nbconvert_exporter": "python",
   "pygments_lexer": "ipython3",
   "version": "3.6.1"
  }
 },
 "nbformat": 4,
 "nbformat_minor": 2
}
